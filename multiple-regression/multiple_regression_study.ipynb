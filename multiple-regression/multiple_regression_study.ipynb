{
 "cells": [
  {
   "cell_type": "code",
   "execution_count": 57,
   "id": "80a402dd",
   "metadata": {},
   "outputs": [],
   "source": [
    "import pandas as pd\n",
    "import numpy as np\n",
    "import seaborn as sn\n",
    "import matplotlib.pyplot as plt\n",
    "import plotly.graph_objects as go\n",
    "from sklearn.linear_model import LinearRegression\n",
    "from sklearn.model_selection import train_test_split\n",
    "from sklearn.metrics import mean_squared_error, r2_score\n",
    "import plotly.graph_objects as go"
   ]
  },
  {
   "cell_type": "code",
   "execution_count": 33,
   "id": "59577b31",
   "metadata": {},
   "outputs": [],
   "source": [
    "# Definir número de registros\n",
    "n = 1000\n",
    "rng = np.random.default_rng(42)\n",
    "\n",
    "# Gerar atributos simplificados (mais relevantes para regressão linear múltipla)\n",
    "# Vamos focar em: areaPrivativaM2, quartos, suites, vagasGaragem, distanciaPraiaM, idadeImovelAnos, andar (para aptos), bairro_enc (dummy numérica), precoVenda\n",
    "\n",
    "# Atributos básicos\n",
    "areaPrivativaM2 = rng.normal(80, 25, n).clip(30, 300)  # média 80 m², variando\n",
    "quartos = rng.integers(1, 5, n)  # de 1 a 4 quartos\n",
    "suites = np.clip(quartos - rng.integers(0, 2, n), 0, None)  # no máx = quartos\n",
    "vagasGaragem = rng.integers(0, 3, n)  # de 0 a 2 vagas\n",
    "distanciaPraiaM = rng.normal(2000, 1200, n).clip(50, 8000)  # 50m a 8km\n",
    "idadeImovelAnos = rng.integers(0, 40, n)  # 0 (novo) até 40 anos\n",
    "andar = rng.integers(0, 20, n)  # 0 = casa, até 20º andar\n",
    "bairro_enc = rng.integers(1, 6, n)  # codificação de bairros principais (1–5)\n",
    "\n",
    "# Definir preço base (m² médio JP ≈ 7445 em 2025)\n",
    "base_price_m2 = 7000\n",
    "\n",
    "# Modelo linear sintético (coeficientes realistas)\n",
    "precoVenda = (\n",
    "    areaPrivativaM2 * base_price_m2\n",
    "    + quartos * 25000\n",
    "    + suites * 35000\n",
    "    + vagasGaragem * 20000\n",
    "    - distanciaPraiaM * 50\n",
    "    - idadeImovelAnos * 1500\n",
    "    + andar * 3000\n",
    "    + bairro_enc * 50000\n",
    ")\n",
    "\n",
    "# Adicionar ruído (5% do preço)\n",
    "noise = rng.normal(0, precoVenda * 0.05)\n",
    "precoVenda = (precoVenda + noise).clip(100000, None)  # nunca < 100k\n",
    "\n",
    "# Criar DataFrame\n",
    "df = pd.DataFrame({\n",
    "    \"areaPrivativaM2\": areaPrivativaM2.round(1),\n",
    "    \"quartos\": quartos,\n",
    "    \"suites\": suites,\n",
    "    \"vagasGaragem\": vagasGaragem,\n",
    "    \"distanciaPraiaM\": distanciaPraiaM.clip(0),\n",
    "    \"idadeImovelAnos\": idadeImovelAnos,\n",
    "    \"andar\": andar,\n",
    "    \"bairroEnc\": bairro_enc,\n",
    "    \"precoVenda\": precoVenda.round(2)\n",
    "})"
   ]
  },
  {
   "cell_type": "code",
   "execution_count": 34,
   "id": "10d9c3e7",
   "metadata": {},
   "outputs": [
    {
     "data": {
      "application/vnd.microsoft.datawrangler.viewer.v0+json": {
       "columns": [
        {
         "name": "index",
         "rawType": "int64",
         "type": "integer"
        },
        {
         "name": "areaPrivativaM2",
         "rawType": "float64",
         "type": "float"
        },
        {
         "name": "quartos",
         "rawType": "int64",
         "type": "integer"
        },
        {
         "name": "suites",
         "rawType": "int64",
         "type": "integer"
        },
        {
         "name": "vagasGaragem",
         "rawType": "int64",
         "type": "integer"
        },
        {
         "name": "distanciaPraiaM",
         "rawType": "float64",
         "type": "float"
        },
        {
         "name": "idadeImovelAnos",
         "rawType": "int64",
         "type": "integer"
        },
        {
         "name": "andar",
         "rawType": "int64",
         "type": "integer"
        },
        {
         "name": "bairroEnc",
         "rawType": "int64",
         "type": "integer"
        },
        {
         "name": "precoVenda",
         "rawType": "float64",
         "type": "float"
        }
       ],
       "ref": "355047b0-559c-436d-81ea-031fa1403ffb",
       "rows": [
        [
         "0",
         "87.6",
         "1",
         "1",
         "0",
         "942.5138630767394",
         "35",
         "8",
         "5",
         "836492.41"
        ],
        [
         "1",
         "54.0",
         "3",
         "3",
         "2",
         "2260.9284983639136",
         "7",
         "11",
         "5",
         "728790.05"
        ],
        [
         "2",
         "98.8",
         "2",
         "2",
         "2",
         "1957.0103040008535",
         "11",
         "4",
         "1",
         "792537.5"
        ],
        [
         "3",
         "103.5",
         "2",
         "1",
         "2",
         "1879.64279906791",
         "38",
         "2",
         "1",
         "825904.55"
        ],
        [
         "4",
         "31.2",
         "3",
         "2",
         "0",
         "1862.8133983943028",
         "12",
         "2",
         "3",
         "436713.04"
        ],
        [
         "5",
         "47.4",
         "2",
         "1",
         "0",
         "2128.526036011366",
         "32",
         "15",
         "4",
         "516690.6"
        ],
        [
         "6",
         "83.2",
         "2",
         "2",
         "2",
         "3017.5504921564398",
         "31",
         "13",
         "5",
         "832939.78"
        ],
        [
         "7",
         "72.1",
         "2",
         "1",
         "1",
         "3653.283483529693",
         "34",
         "5",
         "4",
         "615939.24"
        ],
        [
         "8",
         "79.6",
         "2",
         "2",
         "0",
         "1997.2997065950112",
         "0",
         "14",
         "2",
         "759828.25"
        ],
        [
         "9",
         "58.7",
         "1",
         "1",
         "2",
         "2978.37928660596",
         "19",
         "13",
         "1",
         "404776.8"
        ],
        [
         "10",
         "102.0",
         "4",
         "4",
         "2",
         "1157.879664479861",
         "22",
         "16",
         "4",
         "1146544.05"
        ],
        [
         "11",
         "99.4",
         "1",
         "0",
         "0",
         "2919.1465432714795",
         "33",
         "18",
         "3",
         "663186.1"
        ],
        [
         "12",
         "81.7",
         "2",
         "2",
         "2",
         "1085.6101714076117",
         "8",
         "17",
         "5",
         "1020536.13"
        ],
        [
         "13",
         "108.2",
         "3",
         "3",
         "2",
         "3308.7919233057587",
         "12",
         "3",
         "3",
         "1051208.22"
        ],
        [
         "14",
         "91.7",
         "1",
         "1",
         "1",
         "4652.769052871888",
         "7",
         "15",
         "3",
         "676373.17"
        ],
        [
         "15",
         "58.5",
         "3",
         "3",
         "1",
         "1853.4993344343297",
         "30",
         "7",
         "2",
         "529947.74"
        ],
        [
         "16",
         "89.2",
         "3",
         "3",
         "0",
         "50.0",
         "39",
         "8",
         "1",
         "842420.74"
        ],
        [
         "17",
         "56.0",
         "3",
         "3",
         "2",
         "1342.3124801062124",
         "5",
         "12",
         "5",
         "786350.44"
        ],
        [
         "18",
         "102.0",
         "2",
         "2",
         "2",
         "3478.250161147164",
         "9",
         "12",
         "5",
         "940067.02"
        ],
        [
         "19",
         "78.8",
         "1",
         "1",
         "2",
         "2663.692144430294",
         "12",
         "8",
         "1",
         "592063.56"
        ],
        [
         "20",
         "75.4",
         "4",
         "4",
         "2",
         "2298.6963184100355",
         "35",
         "19",
         "4",
         "908633.75"
        ],
        [
         "21",
         "63.0",
         "2",
         "2",
         "0",
         "3210.4020271458066",
         "17",
         "3",
         "2",
         "472009.46"
        ],
        [
         "22",
         "110.6",
         "4",
         "3",
         "1",
         "2581.3441270981066",
         "11",
         "1",
         "3",
         "973690.1"
        ],
        [
         "23",
         "76.1",
         "1",
         "1",
         "1",
         "3461.2702249413633",
         "12",
         "0",
         "5",
         "676121.25"
        ],
        [
         "24",
         "69.3",
         "1",
         "0",
         "2",
         "3103.3084119763826",
         "23",
         "16",
         "5",
         "644898.07"
        ],
        [
         "25",
         "71.2",
         "4",
         "3",
         "1",
         "3826.040543284351",
         "15",
         "8",
         "1",
         "551208.47"
        ],
        [
         "26",
         "93.3",
         "4",
         "4",
         "1",
         "2430.555300687505",
         "5",
         "8",
         "2",
         "893025.87"
        ],
        [
         "27",
         "89.1",
         "4",
         "4",
         "0",
         "3086.311281792746",
         "32",
         "12",
         "5",
         "963727.68"
        ],
        [
         "28",
         "90.3",
         "4",
         "4",
         "2",
         "1631.4475122970575",
         "16",
         "8",
         "5",
         "1071032.4"
        ],
        [
         "29",
         "90.8",
         "1",
         "1",
         "1",
         "1278.2470261291928",
         "10",
         "11",
         "1",
         "668631.67"
        ],
        [
         "30",
         "133.5",
         "4",
         "4",
         "0",
         "4048.121168502768",
         "29",
         "1",
         "5",
         "1240330.17"
        ],
        [
         "31",
         "69.8",
         "3",
         "3",
         "2",
         "2259.445611587226",
         "29",
         "3",
         "3",
         "613984.87"
        ],
        [
         "32",
         "67.2",
         "1",
         "1",
         "0",
         "2965.856679034855",
         "6",
         "18",
         "3",
         "564185.61"
        ],
        [
         "33",
         "59.7",
         "1",
         "1",
         "0",
         "2148.4880172936682",
         "2",
         "9",
         "1",
         "430391.84"
        ],
        [
         "34",
         "95.4",
         "4",
         "3",
         "0",
         "1296.181218896043",
         "1",
         "3",
         "4",
         "1023011.03"
        ],
        [
         "35",
         "108.2",
         "2",
         "2",
         "1",
         "2013.1794710988815",
         "30",
         "7",
         "4",
         "1000233.53"
        ],
        [
         "36",
         "77.2",
         "4",
         "3",
         "0",
         "3723.192821321257",
         "25",
         "6",
         "4",
         "781056.02"
        ],
        [
         "37",
         "59.0",
         "1",
         "1",
         "2",
         "2666.288089135309",
         "31",
         "5",
         "4",
         "528632.68"
        ],
        [
         "38",
         "59.4",
         "2",
         "1",
         "1",
         "50.0",
         "25",
         "5",
         "5",
         "767586.97"
        ],
        [
         "39",
         "96.3",
         "2",
         "2",
         "0",
         "1741.7066521086144",
         "16",
         "14",
         "5",
         "984312.28"
        ],
        [
         "40",
         "98.6",
         "2",
         "1",
         "0",
         "4138.752551245654",
         "23",
         "2",
         "4",
         "676336.4"
        ],
        [
         "41",
         "93.6",
         "3",
         "2",
         "1",
         "1743.4437657800527",
         "28",
         "6",
         "5",
         "1049999.29"
        ],
        [
         "42",
         "63.4",
         "4",
         "4",
         "0",
         "50.0",
         "15",
         "9",
         "4",
         "821831.46"
        ],
        [
         "43",
         "85.8",
         "4",
         "3",
         "2",
         "4271.658662507052",
         "36",
         "10",
         "4",
         "824993.94"
        ],
        [
         "44",
         "82.9",
         "3",
         "3",
         "0",
         "2818.8710117753512",
         "35",
         "17",
         "3",
         "782950.47"
        ],
        [
         "45",
         "85.5",
         "1",
         "1",
         "1",
         "1915.9845694246396",
         "32",
         "18",
         "4",
         "799337.86"
        ],
        [
         "46",
         "101.8",
         "4",
         "3",
         "0",
         "1554.2987167015176",
         "39",
         "5",
         "1",
         "825357.45"
        ],
        [
         "47",
         "85.6",
         "3",
         "2",
         "0",
         "3298.8223157500825",
         "15",
         "10",
         "3",
         "767159.46"
        ],
        [
         "48",
         "97.0",
         "3",
         "3",
         "0",
         "1349.6199197285691",
         "4",
         "0",
         "3",
         "862356.04"
        ],
        [
         "49",
         "81.7",
         "3",
         "2",
         "0",
         "3377.907709419186",
         "19",
         "12",
         "5",
         "802779.92"
        ]
       ],
       "shape": {
        "columns": 9,
        "rows": 1000
       }
      },
      "text/html": [
       "<div>\n",
       "<style scoped>\n",
       "    .dataframe tbody tr th:only-of-type {\n",
       "        vertical-align: middle;\n",
       "    }\n",
       "\n",
       "    .dataframe tbody tr th {\n",
       "        vertical-align: top;\n",
       "    }\n",
       "\n",
       "    .dataframe thead th {\n",
       "        text-align: right;\n",
       "    }\n",
       "</style>\n",
       "<table border=\"1\" class=\"dataframe\">\n",
       "  <thead>\n",
       "    <tr style=\"text-align: right;\">\n",
       "      <th></th>\n",
       "      <th>areaPrivativaM2</th>\n",
       "      <th>quartos</th>\n",
       "      <th>suites</th>\n",
       "      <th>vagasGaragem</th>\n",
       "      <th>distanciaPraiaM</th>\n",
       "      <th>idadeImovelAnos</th>\n",
       "      <th>andar</th>\n",
       "      <th>bairroEnc</th>\n",
       "      <th>precoVenda</th>\n",
       "    </tr>\n",
       "  </thead>\n",
       "  <tbody>\n",
       "    <tr>\n",
       "      <th>0</th>\n",
       "      <td>87.6</td>\n",
       "      <td>1</td>\n",
       "      <td>1</td>\n",
       "      <td>0</td>\n",
       "      <td>942.513863</td>\n",
       "      <td>35</td>\n",
       "      <td>8</td>\n",
       "      <td>5</td>\n",
       "      <td>836492.41</td>\n",
       "    </tr>\n",
       "    <tr>\n",
       "      <th>1</th>\n",
       "      <td>54.0</td>\n",
       "      <td>3</td>\n",
       "      <td>3</td>\n",
       "      <td>2</td>\n",
       "      <td>2260.928498</td>\n",
       "      <td>7</td>\n",
       "      <td>11</td>\n",
       "      <td>5</td>\n",
       "      <td>728790.05</td>\n",
       "    </tr>\n",
       "    <tr>\n",
       "      <th>2</th>\n",
       "      <td>98.8</td>\n",
       "      <td>2</td>\n",
       "      <td>2</td>\n",
       "      <td>2</td>\n",
       "      <td>1957.010304</td>\n",
       "      <td>11</td>\n",
       "      <td>4</td>\n",
       "      <td>1</td>\n",
       "      <td>792537.50</td>\n",
       "    </tr>\n",
       "    <tr>\n",
       "      <th>3</th>\n",
       "      <td>103.5</td>\n",
       "      <td>2</td>\n",
       "      <td>1</td>\n",
       "      <td>2</td>\n",
       "      <td>1879.642799</td>\n",
       "      <td>38</td>\n",
       "      <td>2</td>\n",
       "      <td>1</td>\n",
       "      <td>825904.55</td>\n",
       "    </tr>\n",
       "    <tr>\n",
       "      <th>4</th>\n",
       "      <td>31.2</td>\n",
       "      <td>3</td>\n",
       "      <td>2</td>\n",
       "      <td>0</td>\n",
       "      <td>1862.813398</td>\n",
       "      <td>12</td>\n",
       "      <td>2</td>\n",
       "      <td>3</td>\n",
       "      <td>436713.04</td>\n",
       "    </tr>\n",
       "    <tr>\n",
       "      <th>...</th>\n",
       "      <td>...</td>\n",
       "      <td>...</td>\n",
       "      <td>...</td>\n",
       "      <td>...</td>\n",
       "      <td>...</td>\n",
       "      <td>...</td>\n",
       "      <td>...</td>\n",
       "      <td>...</td>\n",
       "      <td>...</td>\n",
       "    </tr>\n",
       "    <tr>\n",
       "      <th>995</th>\n",
       "      <td>88.8</td>\n",
       "      <td>3</td>\n",
       "      <td>3</td>\n",
       "      <td>2</td>\n",
       "      <td>50.000000</td>\n",
       "      <td>38</td>\n",
       "      <td>19</td>\n",
       "      <td>1</td>\n",
       "      <td>923199.27</td>\n",
       "    </tr>\n",
       "    <tr>\n",
       "      <th>996</th>\n",
       "      <td>99.2</td>\n",
       "      <td>4</td>\n",
       "      <td>3</td>\n",
       "      <td>1</td>\n",
       "      <td>1732.613389</td>\n",
       "      <td>29</td>\n",
       "      <td>19</td>\n",
       "      <td>4</td>\n",
       "      <td>1058896.17</td>\n",
       "    </tr>\n",
       "    <tr>\n",
       "      <th>997</th>\n",
       "      <td>83.0</td>\n",
       "      <td>3</td>\n",
       "      <td>3</td>\n",
       "      <td>0</td>\n",
       "      <td>3365.548123</td>\n",
       "      <td>28</td>\n",
       "      <td>4</td>\n",
       "      <td>1</td>\n",
       "      <td>631655.58</td>\n",
       "    </tr>\n",
       "    <tr>\n",
       "      <th>998</th>\n",
       "      <td>83.3</td>\n",
       "      <td>1</td>\n",
       "      <td>0</td>\n",
       "      <td>0</td>\n",
       "      <td>2022.073059</td>\n",
       "      <td>30</td>\n",
       "      <td>0</td>\n",
       "      <td>5</td>\n",
       "      <td>646308.59</td>\n",
       "    </tr>\n",
       "    <tr>\n",
       "      <th>999</th>\n",
       "      <td>100.6</td>\n",
       "      <td>1</td>\n",
       "      <td>1</td>\n",
       "      <td>2</td>\n",
       "      <td>1401.274940</td>\n",
       "      <td>6</td>\n",
       "      <td>5</td>\n",
       "      <td>2</td>\n",
       "      <td>777776.35</td>\n",
       "    </tr>\n",
       "  </tbody>\n",
       "</table>\n",
       "<p>1000 rows × 9 columns</p>\n",
       "</div>"
      ],
      "text/plain": [
       "     areaPrivativaM2  quartos  suites  vagasGaragem  distanciaPraiaM  \\\n",
       "0               87.6        1       1             0       942.513863   \n",
       "1               54.0        3       3             2      2260.928498   \n",
       "2               98.8        2       2             2      1957.010304   \n",
       "3              103.5        2       1             2      1879.642799   \n",
       "4               31.2        3       2             0      1862.813398   \n",
       "..               ...      ...     ...           ...              ...   \n",
       "995             88.8        3       3             2        50.000000   \n",
       "996             99.2        4       3             1      1732.613389   \n",
       "997             83.0        3       3             0      3365.548123   \n",
       "998             83.3        1       0             0      2022.073059   \n",
       "999            100.6        1       1             2      1401.274940   \n",
       "\n",
       "     idadeImovelAnos  andar  bairroEnc  precoVenda  \n",
       "0                 35      8          5   836492.41  \n",
       "1                  7     11          5   728790.05  \n",
       "2                 11      4          1   792537.50  \n",
       "3                 38      2          1   825904.55  \n",
       "4                 12      2          3   436713.04  \n",
       "..               ...    ...        ...         ...  \n",
       "995               38     19          1   923199.27  \n",
       "996               29     19          4  1058896.17  \n",
       "997               28      4          1   631655.58  \n",
       "998               30      0          5   646308.59  \n",
       "999                6      5          2   777776.35  \n",
       "\n",
       "[1000 rows x 9 columns]"
      ]
     },
     "execution_count": 34,
     "metadata": {},
     "output_type": "execute_result"
    }
   ],
   "source": [
    "df"
   ]
  },
  {
   "cell_type": "code",
   "execution_count": 35,
   "id": "676651c2",
   "metadata": {},
   "outputs": [
    {
     "name": "stdout",
     "output_type": "stream",
     "text": [
      "<class 'pandas.core.frame.DataFrame'>\n",
      "RangeIndex: 1000 entries, 0 to 999\n",
      "Data columns (total 9 columns):\n",
      " #   Column           Non-Null Count  Dtype  \n",
      "---  ------           --------------  -----  \n",
      " 0   areaPrivativaM2  1000 non-null   float64\n",
      " 1   quartos          1000 non-null   int64  \n",
      " 2   suites           1000 non-null   int64  \n",
      " 3   vagasGaragem     1000 non-null   int64  \n",
      " 4   distanciaPraiaM  1000 non-null   float64\n",
      " 5   idadeImovelAnos  1000 non-null   int64  \n",
      " 6   andar            1000 non-null   int64  \n",
      " 7   bairroEnc        1000 non-null   int64  \n",
      " 8   precoVenda       1000 non-null   float64\n",
      "dtypes: float64(3), int64(6)\n",
      "memory usage: 70.4 KB\n"
     ]
    }
   ],
   "source": [
    "df.info()"
   ]
  },
  {
   "cell_type": "code",
   "execution_count": 60,
   "id": "cb2c8536",
   "metadata": {},
   "outputs": [
    {
     "data": {
      "text/plain": [
       "<Axes: >"
      ]
     },
     "execution_count": 60,
     "metadata": {},
     "output_type": "execute_result"
    },
    {
     "data": {
      "image/png": "[encoded data removed]",
      "text/plain": [
       "<Figure size 640x480 with 2 Axes>"
      ]
     },
     "metadata": {},
     "output_type": "display_data"
    }
   ],
   "source": [
    "plt.Figure(figsize=(10, 8))\n",
    "sn.heatmap(df.corr(), annot=True, fmt=\".2f\")\n"
   ]
  },
  {
   "cell_type": "code",
   "execution_count": 67,
   "id": "ab0ac4c5",
   "metadata": {},
   "outputs": [
    {
     "data": {
      "text/plain": [
       "(array([[ 87.6,   1. ],\n",
       "        [ 54. ,   3. ],\n",
       "        [ 98.8,   2. ],\n",
       "        ...,\n",
       "        [ 83. ,   3. ],\n",
       "        [ 83.3,   0. ],\n",
       "        [100.6,   1. ]], shape=(1000, 2)),\n",
       " array([ 836492.41,  728790.05,  792537.5 ,  825904.55,  436713.04,\n",
       "         516690.6 ,  832939.78,  615939.24,  759828.25,  404776.8 ,\n",
       "        1146544.05,  663186.1 , 1020536.13, 1051208.22,  676373.17,\n",
       "         529947.74,  842420.74,  786350.44,  940067.02,  592063.56,\n",
       "         908633.75,  472009.46,  973690.1 ,  676121.25,  644898.07,\n",
       "         551208.47,  893025.87,  963727.68, 1071032.4 ,  668631.67,\n",
       "        1240330.17,  613984.87,  564185.61,  430391.84, 1023011.03,\n",
       "        1000233.53,  781056.02,  528632.68,  767586.97,  984312.28,\n",
       "         676336.4 , 1049999.29,  821831.46,  824993.94,  782950.47,\n",
       "         799337.86,  825357.45,  767159.46,  862356.04,  802779.92,\n",
       "         717741.3 ,  924875.84,  493116.1 ,  845265.51,  772948.77,\n",
       "         585097.68,  885362.08,  960377.44,  577558.8 ,  892073.01,\n",
       "         355214.36,  822376.71,  779269.43,  750938.01,  708426.75,\n",
       "        1069282.52,  663536.63,  678685.5 ,  896342.36,  653195.88,\n",
       "         662910.02,  704085.66,  715455.25,  800031.52,  692314.16,\n",
       "         937286.94,  468219.98,  969140.76,  912211.26,  946389.87,\n",
       "         676837.02,  578626.68,  653783.61,  615696.79,  677106.82,\n",
       "         715005.51,  784555.13,  895891.11, 1016265.86,  640507.68,\n",
       "        1057338.29,  491561.04,  606196.19,  886547.62,  485555.46,\n",
       "         735219.32,  509039.73,  545515.67,  743825.6 ,  781417.04,\n",
       "         628338.63,  877827.63,  760729.08,  994299.15,  435798.12,\n",
       "         680884.87,  409574.98,  634898.88,  938877.77,  543714.59,\n",
       "         805839.73,  677714.56,  672791.11,  642856.81,  768360.91,\n",
       "         508949.02,  787864.97,  961475.38,  935747.07,  894206.52,\n",
       "         573285.12,  814161.51,  749978.39,  768641.12,  931142.34,\n",
       "        1063371.59,  890180.05,  673559.93,  877405.09,  542022.25,\n",
       "         653425.3 ,  372520.28,  756299.49,  783637.91,  497470.33,\n",
       "         666049.37,  598377.38,  991745.76,  896588.17, 1142807.36,\n",
       "         833642.68,  574179.12,  493228.03,  852690.98,  610716.77,\n",
       "         494297.58,  582819.37,  910261.07,  816341.69,  799812.15,\n",
       "         724385.53,  406077.94,  472339.38,  518348.87,  686691.33,\n",
       "        1158698.35,  694132.06,  883063.04,  575325.77,  566424.26,\n",
       "         584324.07,  548010.48, 1221621.43,  396554.47,  935999.5 ,\n",
       "         616626.82,  928115.39,  848973.02,  449264.72,  862555.73,\n",
       "         753310.26,  781247.43,  846904.36,  406317.74,  570547.55,\n",
       "         915373.73, 1022364.35,  853830.56,  631611.35,  711994.58,\n",
       "        1107584.12,  746129.44,  751143.19, 1121297.39,  839575.7 ,\n",
       "        1259126.05,  904101.97,  724849.76,  288254.6 ,  977031.06,\n",
       "         986126.03,  764830.56,  505320.68,  958383.82,  424945.12,\n",
       "         503836.19,  911767.89,  905178.55,  637506.78,  626051.72,\n",
       "         728770.81,  861151.77,  713273.2 ,  959698.82,  212107.42,\n",
       "         781094.37,  609386.44,  474407.95,  882740.67,  776549.07,\n",
       "        1008550.69,  655769.71,  828838.84,  615634.71,  700468.2 ,\n",
       "         995814.12,  908663.22,  944612.7 ,  986547.21,  460473.6 ,\n",
       "         941440.26,  714070.96,  513394.72,  613860.9 ,  784106.22,\n",
       "         710113.41, 1182229.08, 1070807.67,  487053.38,  688562.1 ,\n",
       "         473552.16,  489049.  , 1009392.33, 1206018.39,  900500.9 ,\n",
       "         735004.68,  506952.94,  498984.04,  571944.53,  732370.5 ,\n",
       "         407421.2 ,  965271.8 ,  500619.66,  598666.04, 1099747.27,\n",
       "         457453.54,  399926.7 ,  850599.54, 1465011.44,  681134.78,\n",
       "         687756.42,  733458.41, 1207952.09,  668243.44,  685177.15,\n",
       "         968900.8 ,  893072.07,  427926.59,  591425.94,  550578.86,\n",
       "         566175.5 ,  879238.72,  870311.92,  609403.  ,  733258.  ,\n",
       "         931413.26,  811586.64,  850208.61,  517458.47,  706230.53,\n",
       "         537658.18,  891612.61,  960784.44, 1048255.96, 1073949.62,\n",
       "         851778.73,  668369.7 ,  664213.64,  983642.87,  707976.67,\n",
       "        1105640.38,  517151.49,  879778.25,  780872.94,  713558.51,\n",
       "         760370.22,  798383.56,  476592.41,  791076.44,  518181.08,\n",
       "         640475.45,  876125.39,  994692.81,  265941.73,  643747.31,\n",
       "         722466.46,  747555.22,  498317.16,  374472.56,  649128.39,\n",
       "        1015991.85,  637690.28,  776623.89,  640894.14,  684571.33,\n",
       "         536463.87,  854007.29,  805706.59,  933381.92, 1070651.18,\n",
       "         812543.68,  881135.51, 1144917.4 ,  596352.63,  796296.58,\n",
       "         727815.14,  673020.01,  636065.23, 1162937.71,  586730.32,\n",
       "         951295.71,  639229.79, 1021963.52,  712971.64, 1015805.71,\n",
       "         678308.88,  739811.42,  717507.37,  597434.92,  704871.99,\n",
       "         838534.97,  960331.  ,  761674.78,  532975.08,  682534.56,\n",
       "         699483.91,  579714.95,  890473.13,  691015.3 ,  843827.76,\n",
       "         431479.56,  656734.18, 1047884.18, 1014769.49,  899699.13,\n",
       "         280313.63,  649882.31, 1036190.49,  269403.46,  909478.22,\n",
       "         671817.52,  928970.92,  577267.48, 1122789.7 ,  854103.36,\n",
       "         783840.94,  646608.76,  691499.72,  676917.92,  748673.43,\n",
       "         573551.78,  781194.91,  936918.86,  569225.82,  763946.91,\n",
       "         946359.98,  781575.81,  662750.17,  740585.54,  748768.57,\n",
       "         587241.77,  923203.73,  945583.77,  866747.03,  894141.33,\n",
       "        1236599.76,  657716.29,  406461.7 , 1069017.18,  600405.32,\n",
       "         763074.39, 1064479.11,  288845.74,  797122.84,  658716.91,\n",
       "         488197.55,  861784.51,  948642.03,  790543.89,  663748.09,\n",
       "         457494.78,  683623.46,  918420.7 ,  936929.28,  981913.52,\n",
       "         769909.04, 1029719.9 , 1005316.04,  750972.95,  650300.9 ,\n",
       "         902377.35,  628276.07,  693345.27,  582089.03,  799102.1 ,\n",
       "         628324.73,  752945.99,  866702.83,  287797.35,  513159.06,\n",
       "         589146.22,  442552.85,  579454.22,  999982.74,  599516.31,\n",
       "         775145.1 ,  814039.71,  833498.16,  761789.67,  899149.43,\n",
       "         804062.4 ,  482242.93,  907248.24,  424432.68,  600134.88,\n",
       "         431158.03,  991188.88, 1334230.18,  428995.48,  928384.33,\n",
       "         585701.05,  637603.87, 1045506.91,  421238.13,  733295.06,\n",
       "         393736.1 ,  563060.26,  756231.86,  690105.65,  878388.5 ,\n",
       "         540723.64,  979628.65,  948291.74, 1356188.14,  665183.45,\n",
       "         594057.96,  880676.92,  715317.33, 1041604.82,  930131.36,\n",
       "         539826.71,  611420.25,  863269.76, 1262283.79,  846766.1 ,\n",
       "         917471.88,  827540.49,  647393.32,  839030.37,  684050.56,\n",
       "         863347.39,  826898.42,  661149.19,  315142.49,  560570.64,\n",
       "         579618.86,  694023.79,  976014.15,  933824.34,  663430.22,\n",
       "         778654.56,  928578.12, 1017565.35,  843430.38, 1113006.85,\n",
       "         702902.75,  937065.  ,  529949.01,  668659.08, 1076082.1 ,\n",
       "         761830.15,  936164.5 ,  748030.23,  828149.88, 1047919.19,\n",
       "         605564.55,  644357.85,  933196.4 ,  532057.  ,  858622.04,\n",
       "         957138.02,  855978.08,  724285.97,  731267.97,  491481.89,\n",
       "         954127.18,  537047.2 ,  917029.34,  268050.73,  537464.08,\n",
       "        1019767.66, 1125406.8 ,  694669.6 ,  540997.2 ,  402748.61,\n",
       "         539836.22,  999751.7 ,  742210.75,  720288.12,  823957.47,\n",
       "         453310.24,  661128.73,  675570.3 ,  838800.9 ,  766473.16,\n",
       "        1059385.35,  760100.07,  492038.95, 1034242.83,  951891.72,\n",
       "         430777.67,  504626.4 , 1139709.13,  642687.99, 1043896.98,\n",
       "         742621.06, 1143379.05,  713772.64,  968702.87,  868462.24,\n",
       "         942694.65,  566902.34,  799499.2 ,  883423.04,  471263.04,\n",
       "        1028587.56,  568414.21,  818709.02,  427881.72,  778568.41,\n",
       "         498204.73,  745624.65,  673718.65,  801015.31,  760634.56,\n",
       "         786798.01,  988818.87,  408173.53,  904167.47,  803270.81,\n",
       "         958029.83,  802209.41,  881174.71, 1091035.01,  698907.83,\n",
       "         801375.41,  660953.65,  488426.15,  624747.33,  326945.  ,\n",
       "         845978.01,  811598.88,  870199.73,  518266.83,  662974.39,\n",
       "         736228.96,  717779.93,  555478.01,  601932.33,  887692.16,\n",
       "         451904.14,  633548.76,  780183.55,  667389.23,  700639.13,\n",
       "         387703.28, 1076301.03, 1055384.9 ,  696093.8 ,  831698.36,\n",
       "         423749.94,  437649.61,  882722.57,  408777.15,  855816.44,\n",
       "        1264709.83,  426565.3 ,  451993.21,  939388.03,  992277.37,\n",
       "         557405.84,  900277.86,  934377.93,  317907.76,  577225.24,\n",
       "         659481.7 ,  553599.81, 1123729.29,  645156.93,  545806.64,\n",
       "        1192592.95,  810730.03, 1210416.48,  720451.75,  867739.59,\n",
       "         904975.51, 1080260.57,  805547.4 ,  431833.96,  677471.04,\n",
       "         471761.11,  605156.54,  665094.01,  837350.31,  652306.18,\n",
       "         471181.64,  850444.52,  578818.07,  678017.91, 1438094.8 ,\n",
       "         663743.86,  669299.54,  906929.53,  656600.83,  954235.28,\n",
       "         545901.41,  648001.79, 1048242.34,  594302.36,  268204.49,\n",
       "         998766.54, 1237450.69,  672091.84,  423061.59,  624131.48,\n",
       "         559323.85,  862856.93,  560990.23, 1064581.78,  949498.94,\n",
       "         329894.29,  668859.06, 1187253.25,  923771.97,  562732.22,\n",
       "         914676.67,  939510.01,  408851.7 ,  709411.33,  575927.46,\n",
       "        1294862.7 ,  711628.69, 1060190.7 ,  661868.25,  961134.82,\n",
       "         684042.52,  517847.87,  619308.22,  943896.66,  714633.58,\n",
       "         357980.58,  779046.65,  714109.86,  577117.11,  650771.81,\n",
       "         331043.89,  411259.56,  587228.53,  765381.  ,  356973.96,\n",
       "         848870.24,  873108.6 ,  752546.72,  726079.84,  961174.64,\n",
       "         630077.96, 1196149.43,  941694.42, 1047585.71,  673208.94,\n",
       "         893281.06,  727598.22,  890332.53,  884668.52,  895026.38,\n",
       "         649975.23, 1022401.65, 1291284.62,  667057.25,  500661.5 ,\n",
       "         571236.14,  735857.4 ,  863377.09,  131838.25,  726682.95,\n",
       "         520619.34,  345038.38,  601835.21,  397688.3 ,  739175.57,\n",
       "        1210630.7 ,  866007.38,  553291.35,  649451.88,  923499.17,\n",
       "         713557.78,  590905.56, 1026447.3 ,  650503.29,  823691.69,\n",
       "         840873.17, 1080132.27,  635780.49,  856877.57,  759115.62,\n",
       "         468412.62,  523971.51,  591469.37,  682365.74,  700472.15,\n",
       "         750309.13,  997853.  ,  505865.76,  486018.48,  417593.17,\n",
       "        1005477.39,  949978.76,  811195.09,  663915.14,  517919.09,\n",
       "         869785.41,  726242.3 ,  917731.52,  499127.53,  687085.24,\n",
       "        1017296.38,  925708.11,  882650.84,  560608.73,  336511.15,\n",
       "         857585.22,  960884.11,  551079.53,  533117.29,  871909.74,\n",
       "         861009.6 , 1257514.64,  808971.32,  852400.73,  677998.12,\n",
       "         804443.39, 1006099.85,  430405.1 , 1322204.55, 1023225.49,\n",
       "        1043827.6 ,  420601.95,  760228.56,  874674.09,  783540.29,\n",
       "        1211060.06, 1064697.44,  867113.45,  842298.82,  894537.64,\n",
       "         600659.73,  873850.58,  647455.04,  441735.03,  972323.64,\n",
       "        1125396.19, 1289525.4 ,  779139.66, 1009746.67,  716305.65,\n",
       "         797944.35,  555869.79,  923376.5 ,  780209.73,  487788.55,\n",
       "         838272.94,  965691.88,  957046.48,  841047.73,  803636.9 ,\n",
       "         729170.95,  916815.92,  840625.44,  607700.31,  607158.34,\n",
       "         430628.44,  592095.46, 1072758.19,  940157.84,  411852.53,\n",
       "         497796.83,  951219.24,  827251.12, 1045557.6 ,  586096.86,\n",
       "         503782.64,  749504.52,  749555.28,  772451.67,  764736.64,\n",
       "         881963.88,  574514.39,  603191.09,  792962.54,  935996.38,\n",
       "         685772.5 ,  602788.62,  845457.44,  679294.68,  525119.99,\n",
       "         737958.99,  959500.17,  553071.58,  638965.02,  389306.38,\n",
       "         463835.32, 1161871.83,  577369.57,  339423.47,  318762.08,\n",
       "         842279.4 ,  621887.96,  883510.61, 1209800.15,  298350.88,\n",
       "         848619.27, 1306946.58,  615689.34,  829241.48,  477224.74,\n",
       "         817609.01,  857322.69,  967317.64, 1068036.78,  658269.59,\n",
       "        1074565.57,  535560.76,  958477.91,  613960.69,  682719.86,\n",
       "         687969.9 , 1334540.31, 1162151.58,  827534.16,  763508.28,\n",
       "         651029.24,  975225.89,  799092.07,  717358.63,  852077.3 ,\n",
       "         529134.66,  744101.72, 1036955.38,  306162.68,  925680.32,\n",
       "         424163.96,  437502.89,  657468.38,  823461.95,  665467.97,\n",
       "         750364.7 ,  707008.74,  597133.3 ,  895575.75,  657947.24,\n",
       "         914012.88,  653210.26, 1065131.01,  774891.48,  560444.25,\n",
       "         273800.96,  882235.5 ,  842660.43,  653713.27,  787399.29,\n",
       "         884392.58,  847661.3 ,  722806.03,  379662.07,  675691.38,\n",
       "         984782.07,  943041.82,  648868.04,  497783.91,  542714.29,\n",
       "         887280.68,  759901.37,  903096.58,  594026.87,  827051.5 ,\n",
       "         835631.01,  568962.61,  573910.64,  772811.64,  451805.46,\n",
       "        1002136.9 ,  629489.69,  968330.26, 1083654.27,  495279.62,\n",
       "        1108181.92,  826991.31,  692204.77,  872808.85,  647024.87,\n",
       "         800072.8 ,  850974.4 , 1067180.83,  652008.25,  915581.68,\n",
       "        1136582.22, 1076359.66, 1272143.78, 1262686.64,  576707.32,\n",
       "         606693.01,  730264.23,  580080.42,  831699.09,  804054.38,\n",
       "        1177446.3 ,  679840.65,  859583.79,  719594.09,  938037.36,\n",
       "        1019522.65,  810101.68, 1043592.17, 1186037.92,  742626.83,\n",
       "         722119.44,  720831.2 ,  855242.27,  857799.62,  886219.82,\n",
       "         900650.37,  839241.06,  760214.78, 1018607.18,  744580.41,\n",
       "         621233.51,  760936.29,  344281.94,  911729.52,  458867.22,\n",
       "         434120.48,  924821.9 ,  917815.04,  579977.51,  530152.74,\n",
       "        1076575.71,  519308.46, 1078523.48,  443800.85,  788822.76,\n",
       "        1026770.45,  681675.87,  671085.36,  520621.61,  585038.28,\n",
       "         704585.06,  781549.22,  588560.49, 1109907.53,  879791.6 ,\n",
       "         766147.11,  477273.52,  803951.97,  917413.74,  674275.09,\n",
       "         574975.87, 1223442.64,  799571.64,  372646.21,  944333.19,\n",
       "        1231307.  ,  370768.84,  896761.6 ,  856680.46,  778641.85,\n",
       "         774553.58,  666387.42,  681983.56,  700916.9 ,  683721.92,\n",
       "         963631.76,  969666.46,  914333.3 ,  807837.95,  685902.58,\n",
       "         923199.27, 1058896.17,  631655.58,  646308.59,  777776.35]))"
      ]
     },
     "execution_count": 67,
     "metadata": {},
     "output_type": "execute_result"
    }
   ],
   "source": [
    "x = df.drop(columns=['quartos', 'vagasGaragem',\n",
    "        'distanciaPraiaM', 'idadeImovelAnos', 'andar', 'bairroEnc',\n",
    "        'precoVenda']).values\n",
    "y = df.iloc[:, 8].values\n",
    "\n",
    "x, y"
   ]
  },
  {
   "cell_type": "code",
   "execution_count": 68,
   "id": "8a14929a",
   "metadata": {},
   "outputs": [
    {
     "data": {
      "text/plain": [
       "((700, 2), (300, 2), (700,), (300,))"
      ]
     },
     "execution_count": 68,
     "metadata": {},
     "output_type": "execute_result"
    }
   ],
   "source": [
    "x_train, x_test, y_train, y_test = train_test_split(x, y, test_size=0.3, random_state=42)\n",
    "x_train.shape, x_test.shape, y_train.shape, y_test.shape"
   ]
  },
  {
   "cell_type": "code",
   "execution_count": 70,
   "id": "76e49acb",
   "metadata": {},
   "outputs": [],
   "source": [
    "model = LinearRegression()\n",
    "model.fit(x_train, y_train)\n",
    "\n",
    "y_predict = model.predict(x_test)"
   ]
  },
  {
   "cell_type": "code",
   "execution_count": 71,
   "id": "9c8d84b1",
   "metadata": {},
   "outputs": [
    {
     "data": {
      "text/plain": [
       "0.6733493776783188"
      ]
     },
     "execution_count": 71,
     "metadata": {},
     "output_type": "execute_result"
    }
   ],
   "source": [
    "mean_squared_error(y_predict, y_test)\n",
    "r2_score(y_predict, y_test)"
   ]
  },
  {
   "cell_type": "code",
   "execution_count": 74,
   "id": "daae279d",
   "metadata": {},
   "outputs": [
    {
     "data": {
      "application/vnd.plotly.v1+json": {
       "config": {
        "plotlyServerURL": "https://plot.ly"
       },
       "data": [
        {
         "marker": {
          "color": "blue",
          "opacity": 0.5,
          "size": 3
         },
         "mode": "markers",
         "name": "Dados reais",
         "type": "scatter3d",
         "x": {
          "bdata": "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",
          "dtype": "f8"
         },
         "y": {
          "bdata": "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",
          "dtype": "f8"
         },
         "z": {
          "bdata": "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",
          "dtype": "f8"
         }
        },
        {
         "colorscale": [
          [
           0,
           "#440154"
          ],
          [
           0.1111111111111111,
           "#482878"
          ],
          [
           0.2222222222222222,
           "#3e4989"
          ],
          [
           0.3333333333333333,
           "#31688e"
          ],
          [
           0.4444444444444444,
           "#26828e"
          ],
          [
           0.5555555555555556,
           "#1f9e89"
          ],
          [
           0.6666666666666666,
           "#35b779"
          ],
          [
           0.7777777777777778,
           "#6ece58"
          ],
          [
           0.8888888888888888,
           "#b5de2b"
          ],
          [
           1,
           "#fde725"
          ]
         ],
         "name": "Plano de regressão",
         "opacity": 0.7,
         "type": "surface",
         "x": {
          "bdata": "AAAAAAAAPkAlSZIkSVJAQEmSJEmSpEFAbtu2bdv2QkCSJEmSJElEQLdt27Ztm0VA3LZt27btRkAAAAAAAEBIQCRJkiRJkklASZIkSZLkSkBu27Zt2zZMQJIkSZIkiU1At23btm3bTkBu27Zt2xZQQAAAAAAAwFBAkiRJkiRpUUAkSZIkSRJSQLdt27Ztu1JASZIkSZJkU0Dctm3btg1UQG7btm3btlRAAAAAAABgVUCSJEmSJAlWQCRJkiRJslZAt23btm1bV0BJkiRJkgRYQNu2bdu2rVhAbtu2bdtWWUAAAAAAAABaQJIkSZIkqVpAJEmSJElSW0C3bdu2bftbQEmSJEmSpFxA27Zt27ZNXUBu27Zt2/ZdQAAAAAAAoF5AkiRJkiRJX0AkSZIkSfJfQNy2bdu2TWBAJEmSJEmiYEBu27Zt2/ZgQLdt27ZtS2FAAAAAAACgYUBJkiRJkvRhQJIkSZIkSWJA3LZt27adYkAkSZIkSfJiQG7btm3bRmNAt23btm2bY0AAAAAAAPBjQA==",
          "dtype": "f8"
         },
         "y": {
          "bdata": "AAAAAAAAAAA5BS+n4OW0PzkFL6fg5cQ/1ofG+tBYzz85BS+n4OXUP4fG+tBYH9o/1ofG+tBY3z+SJEmSJEniPzkFL6fg5eQ/4OUUvJyC5z+HxvrQWB/qPy6n4OUUvOw/1ofG+tBY7z8+NNaHxvrwP5IkSZIkSfI/5RS8nIKX8z85BS+n4OX0P431obE+NPY/4OUUvJyC9z801ofG+tD4P4fG+tBYH/o/27Zt27Zt+z8up+DlFLz8P4KXU/ByCv4/1ofG+tBY/z8VvJyCl1MAQD401ofG+gBAaKwPjfWhAUCSJEmSJEkCQLycgpdT8AJA5RS8nIKXA0APjfWhsT4EQDkFL6fg5QRAY31orA+NBUCN9aGxPjQGQLZt27Zt2wZA4OUUvJyCB0AKXk7ByykIQDTWh8b60AhAXU7Byyl4CUCHxvrQWB8KQLE+NNaHxgpA27Zt27ZtC0AFL6fg5RQMQC6n4OUUvAxAWB8a60NjDUCCl1PwcgoOQKwPjfWhsQ5A1ofG+tBYD0AAAAAAAAAQQA==",
          "dtype": "f8"
         },
         "z": {
          "bdata": "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",
          "dtype": "f8",
          "shape": "50, 50"
         }
        }
       ],
       "layout": {
        "scene": {
         "xaxis": {
          "title": {
           "text": "areaPrivativaM2"
          }
         },
         "yaxis": {
          "title": {
           "text": "suites"
          }
         },
         "zaxis": {
          "title": {
           "text": "Preço (R$)"
          }
         }
        },
        "template": {
         "data": {
          "bar": [
           {
            "error_x": {
             "color": "#f2f5fa"
            },
            "error_y": {
             "color": "#f2f5fa"
            },
            "marker": {
             "line": {
              "color": "rgb(17,17,17)",
              "width": 0.5
             },
             "pattern": {
              "fillmode": "overlay",
              "size": 10,
              "solidity": 0.2
             }
            },
            "type": "bar"
           }
          ],
          "barpolar": [
           {
            "marker": {
             "line": {
              "color": "rgb(17,17,17)",
              "width": 0.5
             },
             "pattern": {
              "fillmode": "overlay",
              "size": 10,
              "solidity": 0.2
             }
            },
            "type": "barpolar"
           }
          ],
          "carpet": [
           {
            "aaxis": {
             "endlinecolor": "#A2B1C6",
             "gridcolor": "#506784",
             "linecolor": "#506784",
             "minorgridcolor": "#506784",
             "startlinecolor": "#A2B1C6"
            },
            "baxis": {
             "endlinecolor": "#A2B1C6",
             "gridcolor": "#506784",
             "linecolor": "#506784",
             "minorgridcolor": "#506784",
             "startlinecolor": "#A2B1C6"
            },
            "type": "carpet"
           }
          ],
          "choropleth": [
           {
            "colorbar": {
             "outlinewidth": 0,
             "ticks": ""
            },
            "type": "choropleth"
           }
          ],
          "contour": [
           {
            "colorbar": {
             "outlinewidth": 0,
             "ticks": ""
            },
            "colorscale": [
             [
              0,
              "#0d0887"
             ],
             [
              0.1111111111111111,
              "#46039f"
             ],
             [
              0.2222222222222222,
              "#7201a8"
             ],
             [
              0.3333333333333333,
              "#9c179e"
             ],
             [
              0.4444444444444444,
              "#bd3786"
             ],
             [
              0.5555555555555556,
              "#d8576b"
             ],
             [
              0.6666666666666666,
              "#ed7953"
             ],
             [
              0.7777777777777778,
              "#fb9f3a"
             ],
             [
              0.8888888888888888,
              "#fdca26"
             ],
             [
              1,
              "#f0f921"
             ]
            ],
            "type": "contour"
           }
          ],
          "contourcarpet": [
           {
            "colorbar": {
             "outlinewidth": 0,
             "ticks": ""
            },
            "type": "contourcarpet"
           }
          ],
          "heatmap": [
           {
            "colorbar": {
             "outlinewidth": 0,
             "ticks": ""
            },
            "colorscale": [
             [
              0,
              "#0d0887"
             ],
             [
              0.1111111111111111,
              "#46039f"
             ],
             [
              0.2222222222222222,
              "#7201a8"
             ],
             [
              0.3333333333333333,
              "#9c179e"
             ],
             [
              0.4444444444444444,
              "#bd3786"
             ],
             [
              0.5555555555555556,
              "#d8576b"
             ],
             [
              0.6666666666666666,
              "#ed7953"
             ],
             [
              0.7777777777777778,
              "#fb9f3a"
             ],
             [
              0.8888888888888888,
              "#fdca26"
             ],
             [
              1,
              "#f0f921"
             ]
            ],
            "type": "heatmap"
           }
          ],
          "histogram": [
           {
            "marker": {
             "pattern": {
              "fillmode": "overlay",
              "size": 10,
              "solidity": 0.2
             }
            },
            "type": "histogram"
           }
          ],
          "histogram2d": [
           {
            "colorbar": {
             "outlinewidth": 0,
             "ticks": ""
            },
            "colorscale": [
             [
              0,
              "#0d0887"
             ],
             [
              0.1111111111111111,
              "#46039f"
             ],
             [
              0.2222222222222222,
              "#7201a8"
             ],
             [
              0.3333333333333333,
              "#9c179e"
             ],
             [
              0.4444444444444444,
              "#bd3786"
             ],
             [
              0.5555555555555556,
              "#d8576b"
             ],
             [
              0.6666666666666666,
              "#ed7953"
             ],
             [
              0.7777777777777778,
              "#fb9f3a"
             ],
             [
              0.8888888888888888,
              "#fdca26"
             ],
             [
              1,
              "#f0f921"
             ]
            ],
            "type": "histogram2d"
           }
          ],
          "histogram2dcontour": [
           {
            "colorbar": {
             "outlinewidth": 0,
             "ticks": ""
            },
            "colorscale": [
             [
              0,
              "#0d0887"
             ],
             [
              0.1111111111111111,
              "#46039f"
             ],
             [
              0.2222222222222222,
              "#7201a8"
             ],
             [
              0.3333333333333333,
              "#9c179e"
             ],
             [
              0.4444444444444444,
              "#bd3786"
             ],
             [
              0.5555555555555556,
              "#d8576b"
             ],
             [
              0.6666666666666666,
              "#ed7953"
             ],
             [
              0.7777777777777778,
              "#fb9f3a"
             ],
             [
              0.8888888888888888,
              "#fdca26"
             ],
             [
              1,
              "#f0f921"
             ]
            ],
            "type": "histogram2dcontour"
           }
          ],
          "mesh3d": [
           {
            "colorbar": {
             "outlinewidth": 0,
             "ticks": ""
            },
            "type": "mesh3d"
           }
          ],
          "parcoords": [
           {
            "line": {
             "colorbar": {
              "outlinewidth": 0,
              "ticks": ""
             }
            },
            "type": "parcoords"
           }
          ],
          "pie": [
           {
            "automargin": true,
            "type": "pie"
           }
          ],
          "scatter": [
           {
            "marker": {
             "line": {
              "color": "#283442"
             }
            },
            "type": "scatter"
           }
          ],
          "scatter3d": [
           {
            "line": {
             "colorbar": {
              "outlinewidth": 0,
              "ticks": ""
             }
            },
            "marker": {
             "colorbar": {
              "outlinewidth": 0,
              "ticks": ""
             }
            },
            "type": "scatter3d"
           }
          ],
          "scattercarpet": [
           {
            "marker": {
             "colorbar": {
              "outlinewidth": 0,
              "ticks": ""
             }
            },
            "type": "scattercarpet"
           }
          ],
          "scattergeo": [
           {
            "marker": {
             "colorbar": {
              "outlinewidth": 0,
              "ticks": ""
             }
            },
            "type": "scattergeo"
           }
          ],
          "scattergl": [
           {
            "marker": {
             "line": {
              "color": "#283442"
             }
            },
            "type": "scattergl"
           }
          ],
          "scattermap": [
           {
            "marker": {
             "colorbar": {
              "outlinewidth": 0,
              "ticks": ""
             }
            },
            "type": "scattermap"
           }
          ],
          "scattermapbox": [
           {
            "marker": {
             "colorbar": {
              "outlinewidth": 0,
              "ticks": ""
             }
            },
            "type": "scattermapbox"
           }
          ],
          "scatterpolar": [
           {
            "marker": {
             "colorbar": {
              "outlinewidth": 0,
              "ticks": ""
             }
            },
            "type": "scatterpolar"
           }
          ],
          "scatterpolargl": [
           {
            "marker": {
             "colorbar": {
              "outlinewidth": 0,
              "ticks": ""
             }
            },
            "type": "scatterpolargl"
           }
          ],
          "scatterternary": [
           {
            "marker": {
             "colorbar": {
              "outlinewidth": 0,
              "ticks": ""
             }
            },
            "type": "scatterternary"
           }
          ],
          "surface": [
           {
            "colorbar": {
             "outlinewidth": 0,
             "ticks": ""
            },
            "colorscale": [
             [
              0,
              "#0d0887"
             ],
             [
              0.1111111111111111,
              "#46039f"
             ],
             [
              0.2222222222222222,
              "#7201a8"
             ],
             [
              0.3333333333333333,
              "#9c179e"
             ],
             [
              0.4444444444444444,
              "#bd3786"
             ],
             [
              0.5555555555555556,
              "#d8576b"
             ],
             [
              0.6666666666666666,
              "#ed7953"
             ],
             [
              0.7777777777777778,
              "#fb9f3a"
             ],
             [
              0.8888888888888888,
              "#fdca26"
             ],
             [
              1,
              "#f0f921"
             ]
            ],
            "type": "surface"
           }
          ],
          "table": [
           {
            "cells": {
             "fill": {
              "color": "#506784"
             },
             "line": {
              "color": "rgb(17,17,17)"
             }
            },
            "header": {
             "fill": {
              "color": "#2a3f5f"
             },
             "line": {
              "color": "rgb(17,17,17)"
             }
            },
            "type": "table"
           }
          ]
         },
         "layout": {
          "annotationdefaults": {
           "arrowcolor": "#f2f5fa",
           "arrowhead": 0,
           "arrowwidth": 1
          },
          "autotypenumbers": "strict",
          "coloraxis": {
           "colorbar": {
            "outlinewidth": 0,
            "ticks": ""
           }
          },
          "colorscale": {
           "diverging": [
            [
             0,
             "#8e0152"
            ],
            [
             0.1,
             "#c51b7d"
            ],
            [
             0.2,
             "#de77ae"
            ],
            [
             0.3,
             "#f1b6da"
            ],
            [
             0.4,
             "#fde0ef"
            ],
            [
             0.5,
             "#f7f7f7"
            ],
            [
             0.6,
             "#e6f5d0"
            ],
            [
             0.7,
             "#b8e186"
            ],
            [
             0.8,
             "#7fbc41"
            ],
            [
             0.9,
             "#4d9221"
            ],
            [
             1,
             "#276419"
            ]
           ],
           "sequential": [
            [
             0,
             "#0d0887"
            ],
            [
             0.1111111111111111,
             "#46039f"
            ],
            [
             0.2222222222222222,
             "#7201a8"
            ],
            [
             0.3333333333333333,
             "#9c179e"
            ],
            [
             0.4444444444444444,
             "#bd3786"
            ],
            [
             0.5555555555555556,
             "#d8576b"
            ],
            [
             0.6666666666666666,
             "#ed7953"
            ],
            [
             0.7777777777777778,
             "#fb9f3a"
            ],
            [
             0.8888888888888888,
             "#fdca26"
            ],
            [
             1,
             "#f0f921"
            ]
           ],
           "sequentialminus": [
            [
             0,
             "#0d0887"
            ],
            [
             0.1111111111111111,
             "#46039f"
            ],
            [
             0.2222222222222222,
             "#7201a8"
            ],
            [
             0.3333333333333333,
             "#9c179e"
            ],
            [
             0.4444444444444444,
             "#bd3786"
            ],
            [
             0.5555555555555556,
             "#d8576b"
            ],
            [
             0.6666666666666666,
             "#ed7953"
            ],
            [
             0.7777777777777778,
             "#fb9f3a"
            ],
            [
             0.8888888888888888,
             "#fdca26"
            ],
            [
             1,
             "#f0f921"
            ]
           ]
          },
          "colorway": [
           "#636efa",
           "#EF553B",
           "#00cc96",
           "#ab63fa",
           "#FFA15A",
           "#19d3f3",
           "#FF6692",
           "#B6E880",
           "#FF97FF",
           "#FECB52"
          ],
          "font": {
           "color": "#f2f5fa"
          },
          "geo": {
           "bgcolor": "rgb(17,17,17)",
           "lakecolor": "rgb(17,17,17)",
           "landcolor": "rgb(17,17,17)",
           "showlakes": true,
           "showland": true,
           "subunitcolor": "#506784"
          },
          "hoverlabel": {
           "align": "left"
          },
          "hovermode": "closest",
          "mapbox": {
           "style": "dark"
          },
          "paper_bgcolor": "rgb(17,17,17)",
          "plot_bgcolor": "rgb(17,17,17)",
          "polar": {
           "angularaxis": {
            "gridcolor": "#506784",
            "linecolor": "#506784",
            "ticks": ""
           },
           "bgcolor": "rgb(17,17,17)",
           "radialaxis": {
            "gridcolor": "#506784",
            "linecolor": "#506784",
            "ticks": ""
           }
          },
          "scene": {
           "xaxis": {
            "backgroundcolor": "rgb(17,17,17)",
            "gridcolor": "#506784",
            "gridwidth": 2,
            "linecolor": "#506784",
            "showbackground": true,
            "ticks": "",
            "zerolinecolor": "#C8D4E3"
           },
           "yaxis": {
            "backgroundcolor": "rgb(17,17,17)",
            "gridcolor": "#506784",
            "gridwidth": 2,
            "linecolor": "#506784",
            "showbackground": true,
            "ticks": "",
            "zerolinecolor": "#C8D4E3"
           },
           "zaxis": {
            "backgroundcolor": "rgb(17,17,17)",
            "gridcolor": "#506784",
            "gridwidth": 2,
            "linecolor": "#506784",
            "showbackground": true,
            "ticks": "",
            "zerolinecolor": "#C8D4E3"
           }
          },
          "shapedefaults": {
           "line": {
            "color": "#f2f5fa"
           }
          },
          "sliderdefaults": {
           "bgcolor": "#C8D4E3",
           "bordercolor": "rgb(17,17,17)",
           "borderwidth": 1,
           "tickwidth": 0
          },
          "ternary": {
           "aaxis": {
            "gridcolor": "#506784",
            "linecolor": "#506784",
            "ticks": ""
           },
           "baxis": {
            "gridcolor": "#506784",
            "linecolor": "#506784",
            "ticks": ""
           },
           "bgcolor": "rgb(17,17,17)",
           "caxis": {
            "gridcolor": "#506784",
            "linecolor": "#506784",
            "ticks": ""
           }
          },
          "title": {
           "x": 0.05
          },
          "updatemenudefaults": {
           "bgcolor": "#506784",
           "borderwidth": 0
          },
          "xaxis": {
           "automargin": true,
           "gridcolor": "#283442",
           "linecolor": "#506784",
           "ticks": "",
           "title": {
            "standoff": 15
           },
           "zerolinecolor": "#283442",
           "zerolinewidth": 2
          },
          "yaxis": {
           "automargin": true,
           "gridcolor": "#283442",
           "linecolor": "#506784",
           "ticks": "",
           "title": {
            "standoff": 15
           },
           "zerolinecolor": "#283442",
           "zerolinewidth": 2
          }
         }
        },
        "title": {
         "text": "Regressão Linear Múltipla (Preço vs Metragem & Quartos)"
        }
       }
      }
     },
     "metadata": {},
     "output_type": "display_data"
    }
   ],
   "source": [
    "# Criar uma malha para superfície de predição\n",
    "metragem_range = np.linspace(x_train.T[0].min(), x_train.T[0].max(), 50)\n",
    "quartos_range = np.linspace(x_train.T[1].min(), x_train.T[1].max(), 50)\n",
    "M, Q = np.meshgrid(metragem_range, quartos_range)\n",
    "Z = model.predict(np.c_[M.ravel(), Q.ravel()]).reshape(M.shape)\n",
    "\n",
    "# Gráfico 3D interativo\n",
    "fig = go.Figure()\n",
    "\n",
    "# Pontos reais\n",
    "fig.add_trace(go.Scatter3d(\n",
    "    x=x_train.T[0], y=x_train.T[1], z=y,\n",
    "    mode=\"markers\",\n",
    "    marker=dict(size=3, color=\"blue\", opacity=0.5),\n",
    "    name=\"Dados reais\"\n",
    "))\n",
    "\n",
    "# Superfície de regressão\n",
    "fig.add_trace(go.Surface(\n",
    "    x=metragem_range, y=quartos_range, z=Z,\n",
    "    colorscale=\"Viridis\", opacity=0.7,\n",
    "    name=\"Plano de regressão\"\n",
    "))\n",
    "\n",
    "# Layout\n",
    "fig.update_layout(\n",
    "    scene=dict(\n",
    "        xaxis_title=\"areaPrivativaM2\",\n",
    "        yaxis_title=\"suites\",\n",
    "        zaxis_title=\"Preço (R$)\"\n",
    "    ),\n",
    "    title=\"Regressão Linear Múltipla (Preço vs Metragem & Quartos)\",\n",
    "    template='plotly_dark' \n",
    ")\n",
    "\n",
    "fig.show()\n"
   ]
  },
  {
   "cell_type": "code",
   "execution_count": null,
   "id": "e09aad38",
   "metadata": {},
   "outputs": [],
   "source": []
  }
 ],
 "metadata": {
  "kernelspec": {
   "display_name": "venv (3.12.7)",
   "language": "python",
   "name": "python3"
  },
  "language_info": {
   "codemirror_mode": {
    "name": "ipython",
    "version": 3
   },
   "file_extension": ".py",
   "mimetype": "text/x-python",
   "name": "python",
   "nbconvert_exporter": "python",
   "pygments_lexer": "ipython3",
   "version": "3.12.7"
  }
 },
 "nbformat": 4,
 "nbformat_minor": 5
}
