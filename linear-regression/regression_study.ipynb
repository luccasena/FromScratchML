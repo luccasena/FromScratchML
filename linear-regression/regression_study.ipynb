{
 "cells": [
  {
   "cell_type": "markdown",
   "id": "b6eecd37",
   "metadata": {},
   "source": [
    "## **Linear Regression From Scratch**\n",
    "Student: Lucca de Sena Barbosa\n",
    "\n",
    "Graduation: Computer Science - 2025.2\n",
    "\n",
    "- **Case study**: Forecast the an employee's salary based on their age;\n",
    "- **Objective**: Understanding how linear regression models work from scratch;"
   ]
  },
  {
   "cell_type": "markdown",
   "id": "2f51049d",
   "metadata": {},
   "source": [
    "### **1. Importing the necessary libraries;**"
   ]
  },
  {
   "cell_type": "code",
   "execution_count": null,
   "id": "1194e033",
   "metadata": {},
   "outputs": [],
   "source": [
    "import pandas as pd\n",
    "import numpy as np\n",
    "import plotly.graph_objects as go"
   ]
  },
  {
   "cell_type": "markdown",
   "id": "75da47cf",
   "metadata": {},
   "source": [
    "### **2. Creating an Simple Dataset;**"
   ]
  },
  {
   "cell_type": "code",
   "execution_count": null,
   "id": "b86e73d4",
   "metadata": {},
   "outputs": [],
   "source": [
    "quantity = 1000\n",
    "\n",
    "age = np.random.randint(18, 81, quantity)\n",
    "\n",
    "salary = 800 + (age - 18) * (20000 - 800) / (80 - 18)  \n",
    "noise = np.random.normal(0, 1500, quantity)  \n",
    "salary = np.clip(salary + noise, 800, 20000) \n",
    "\n",
    "# Criar DataFrame\n",
    "dataframe = pd.DataFrame({\n",
    "    \"Age\": age,\n",
    "    \"Salary\": salary.astype(int)\n",
    "})"
   ]
  },
  {
   "cell_type": "code",
   "execution_count": 63,
   "id": "fd2e5980",
   "metadata": {},
   "outputs": [
    {
     "data": {
      "application/vnd.microsoft.datawrangler.viewer.v0+json": {
       "columns": [
        {
         "name": "index",
         "rawType": "int64",
         "type": "integer"
        },
        {
         "name": "Age",
         "rawType": "int32",
         "type": "integer"
        },
        {
         "name": "Salary",
         "rawType": "int64",
         "type": "integer"
        }
       ],
       "ref": "f439abd0-2753-49b6-902a-56253511db47",
       "rows": [
        [
         "0",
         "26",
         "4761"
        ],
        [
         "1",
         "41",
         "8484"
        ],
        [
         "2",
         "77",
         "20000"
        ],
        [
         "3",
         "20",
         "800"
        ],
        [
         "4",
         "65",
         "16858"
        ],
        [
         "5",
         "28",
         "6380"
        ],
        [
         "6",
         "48",
         "10546"
        ],
        [
         "7",
         "35",
         "8193"
        ],
        [
         "8",
         "31",
         "3548"
        ],
        [
         "9",
         "44",
         "9935"
        ],
        [
         "10",
         "51",
         "11413"
        ],
        [
         "11",
         "42",
         "13123"
        ],
        [
         "12",
         "21",
         "800"
        ],
        [
         "13",
         "35",
         "5629"
        ],
        [
         "14",
         "49",
         "8978"
        ],
        [
         "15",
         "36",
         "2679"
        ],
        [
         "16",
         "68",
         "14841"
        ],
        [
         "17",
         "37",
         "6858"
        ],
        [
         "18",
         "23",
         "1437"
        ],
        [
         "19",
         "36",
         "6804"
        ],
        [
         "20",
         "19",
         "3553"
        ],
        [
         "21",
         "39",
         "8538"
        ],
        [
         "22",
         "33",
         "7144"
        ],
        [
         "23",
         "18",
         "1746"
        ],
        [
         "24",
         "76",
         "17815"
        ],
        [
         "25",
         "46",
         "9971"
        ],
        [
         "26",
         "22",
         "1241"
        ],
        [
         "27",
         "24",
         "859"
        ],
        [
         "28",
         "51",
         "11116"
        ],
        [
         "29",
         "46",
         "11367"
        ],
        [
         "30",
         "19",
         "800"
        ],
        [
         "31",
         "36",
         "9788"
        ],
        [
         "32",
         "26",
         "5616"
        ],
        [
         "33",
         "80",
         "18617"
        ],
        [
         "34",
         "26",
         "5787"
        ],
        [
         "35",
         "20",
         "2697"
        ],
        [
         "36",
         "67",
         "17199"
        ],
        [
         "37",
         "55",
         "11414"
        ],
        [
         "38",
         "56",
         "14315"
        ],
        [
         "39",
         "64",
         "14465"
        ],
        [
         "40",
         "46",
         "8965"
        ],
        [
         "41",
         "24",
         "2962"
        ],
        [
         "42",
         "43",
         "7506"
        ],
        [
         "43",
         "68",
         "14137"
        ],
        [
         "44",
         "57",
         "15518"
        ],
        [
         "45",
         "71",
         "20000"
        ],
        [
         "46",
         "71",
         "20000"
        ],
        [
         "47",
         "68",
         "17934"
        ],
        [
         "48",
         "20",
         "800"
        ],
        [
         "49",
         "30",
         "6039"
        ]
       ],
       "shape": {
        "columns": 2,
        "rows": 1000
       }
      },
      "text/html": [
       "<div>\n",
       "<style scoped>\n",
       "    .dataframe tbody tr th:only-of-type {\n",
       "        vertical-align: middle;\n",
       "    }\n",
       "\n",
       "    .dataframe tbody tr th {\n",
       "        vertical-align: top;\n",
       "    }\n",
       "\n",
       "    .dataframe thead th {\n",
       "        text-align: right;\n",
       "    }\n",
       "</style>\n",
       "<table border=\"1\" class=\"dataframe\">\n",
       "  <thead>\n",
       "    <tr style=\"text-align: right;\">\n",
       "      <th></th>\n",
       "      <th>Age</th>\n",
       "      <th>Salary</th>\n",
       "    </tr>\n",
       "  </thead>\n",
       "  <tbody>\n",
       "    <tr>\n",
       "      <th>0</th>\n",
       "      <td>26</td>\n",
       "      <td>4761</td>\n",
       "    </tr>\n",
       "    <tr>\n",
       "      <th>1</th>\n",
       "      <td>41</td>\n",
       "      <td>8484</td>\n",
       "    </tr>\n",
       "    <tr>\n",
       "      <th>2</th>\n",
       "      <td>77</td>\n",
       "      <td>20000</td>\n",
       "    </tr>\n",
       "    <tr>\n",
       "      <th>3</th>\n",
       "      <td>20</td>\n",
       "      <td>800</td>\n",
       "    </tr>\n",
       "    <tr>\n",
       "      <th>4</th>\n",
       "      <td>65</td>\n",
       "      <td>16858</td>\n",
       "    </tr>\n",
       "    <tr>\n",
       "      <th>...</th>\n",
       "      <td>...</td>\n",
       "      <td>...</td>\n",
       "    </tr>\n",
       "    <tr>\n",
       "      <th>995</th>\n",
       "      <td>67</td>\n",
       "      <td>16975</td>\n",
       "    </tr>\n",
       "    <tr>\n",
       "      <th>996</th>\n",
       "      <td>40</td>\n",
       "      <td>7150</td>\n",
       "    </tr>\n",
       "    <tr>\n",
       "      <th>997</th>\n",
       "      <td>27</td>\n",
       "      <td>3229</td>\n",
       "    </tr>\n",
       "    <tr>\n",
       "      <th>998</th>\n",
       "      <td>59</td>\n",
       "      <td>11412</td>\n",
       "    </tr>\n",
       "    <tr>\n",
       "      <th>999</th>\n",
       "      <td>51</td>\n",
       "      <td>10490</td>\n",
       "    </tr>\n",
       "  </tbody>\n",
       "</table>\n",
       "<p>1000 rows × 2 columns</p>\n",
       "</div>"
      ],
      "text/plain": [
       "     Age  Salary\n",
       "0     26    4761\n",
       "1     41    8484\n",
       "2     77   20000\n",
       "3     20     800\n",
       "4     65   16858\n",
       "..   ...     ...\n",
       "995   67   16975\n",
       "996   40    7150\n",
       "997   27    3229\n",
       "998   59   11412\n",
       "999   51   10490\n",
       "\n",
       "[1000 rows x 2 columns]"
      ]
     },
     "execution_count": 63,
     "metadata": {},
     "output_type": "execute_result"
    }
   ],
   "source": [
    "dataframe"
   ]
  },
  {
   "cell_type": "markdown",
   "id": "4d596e59",
   "metadata": {},
   "source": [
    "### **3. Creating the model:**"
   ]
  },
  {
   "cell_type": "markdown",
   "id": "810b15fb",
   "metadata": {},
   "source": [
    "#### **3.1 Simple Linear Regression (y):**\n",
    "\n",
    "$$\n",
    "y = m \\cdot x + b\n",
    "$$\n",
    "\n",
    "- We need to define the **inclination(m)** and **interception(b)** values for building the function which represents the model.\n",
    "\n",
    "---\n",
    "\n",
    "#### **3.2 Inclination (m):**\n",
    "\n",
    "$$\n",
    "m = \\frac{\\operatorname{Cov}(X,Y)}{\\operatorname{Var}(x)}\n",
    "$$\n",
    "\n",
    "**3.2.1 Covarience (Cov):**\n",
    "\n",
    "$$\n",
    "\\operatorname{Cov}(X,Y) = \\frac{\\sum_{i=1}^{n} (x_i - \\bar{x})(y_i - \\bar{y})}{n-1}\n",
    "$$\n",
    "\n",
    "\n",
    "**3.2.3 Varience (Var):**\n",
    "\n",
    "$$\n",
    "\\operatorname{Var}(x) = \\frac{\\sum_{i=1}^{n} (x_i - \\bar{x})^2}{n-1}\n",
    "$$\n",
    "\n",
    "---\n",
    "\n",
    "#### **3.3 Interception (b):**\n",
    "\n",
    "$$\n",
    "b = \\bar{y} - m \\cdot \\bar{x}\n",
    "$$\n",
    "\n",
    "---"
   ]
  },
  {
   "cell_type": "code",
   "execution_count": null,
   "id": "d85664eb",
   "metadata": {},
   "outputs": [],
   "source": [
    "def mean(values):\n",
    "    \"\"\"\n",
    "    Calculate the mean of list\n",
    "    \"\"\"\n",
    "    n = len(dataframe)\n",
    "    sum = 0\n",
    "    for i in range(n):\n",
    "            sum += values[i]\n",
    "\n",
    "    return sum / n\n",
    "\n",
    "class SimpleRegression:\n",
    "    def __init__(self):\n",
    "        # Initializing the model parameters:\n",
    "        self.m = None # Line Inclination (m)\n",
    "        self.b = None # Interception (b)\n",
    "\n",
    "    def inclination(self, x, y):\n",
    "        \"\"\"\n",
    "        Calculate the inclination of the regression line based on the dataframe.\n",
    "                                    m = Cov(X,Y) / Var(x)\n",
    "        \"\"\"\n",
    "        xMean = mean(x)\n",
    "        yMean = mean(y)\n",
    "        n = len(x)\n",
    "\n",
    "        sum_squared_x = 0\n",
    "        sum_covariance = 0\n",
    "\n",
    "        for i in range(x.shape[0]):\n",
    "            sum_squared_x += ((x[i] - xMean)**2)\n",
    "            sum_covariance += ((x[i] - xMean))*((y[i] - yMean))\n",
    "        \n",
    "        VarX = sum_squared_x / (n - 1)\n",
    "        CovXY = sum_covariance / (n - 1)\n",
    "\n",
    "        return CovXY / VarX\n",
    "\n",
    "    def interception(self, xMedia, yMedia, m):\n",
    "        b = yMedia - (m*xMedia) \n",
    "        return b\n",
    "\n",
    "    def fit(self, x, y):\n",
    "        self.m = self.inclination(x, y)\n",
    "        self.b = self.interception(mean(x), mean(y), self.m)\n",
    "\n",
    "    def predict(self, value):\n",
    "        try: \n",
    "           y = (self.m*value) + self.b\n",
    "\n",
    "        except Exception as e:\n",
    "           print(f\"An error has occured while attempting to make the forecast!\\nErro: {e}\")\n",
    "        \n",
    "        else:\n",
    "            return y\n",
    "\n",
    "x = dataframe.iloc[:, 0].values\n",
    "y = dataframe.iloc[:, 1].values\n",
    "\n",
    "model = SimpleRegression()\n",
    "model.fit(x, y)\n",
    "y_predict = model.predict(x)\n"
   ]
  },
  {
   "cell_type": "markdown",
   "id": "e7fbbc40",
   "metadata": {},
   "source": [
    "### **4. Model visualization using graphics:**"
   ]
  },
  {
   "cell_type": "code",
   "execution_count": null,
   "id": "d5928d94",
   "metadata": {},
   "outputs": [
    {
     "data": {
      "application/vnd.plotly.v1+json": {
       "config": {
        "plotlyServerURL": "https://plot.ly"
       },
       "data": [
        {
         "marker": {
          "color": "blue"
         },
         "mode": "markers",
         "name": "Dataset",
         "type": "scatter",
         "x": {
          "bdata": "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",
          "dtype": "i4"
         },
         "y": {
          "bdata": "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",
          "dtype": "i2"
         }
        },
        {
         "line": {
          "color": "red",
          "width": 3
         },
         "mode": "lines",
         "name": "Model",
         "type": "scatter",
         "x": {
          "bdata": "JgAAAEAAAAAoAAAANAAAADQAAAA6AAAAGQAAACoAAAA5AAAANgAAADsAAAAvAAAAQAAAAEIAAAAWAAAAKwAAADcAAAA4AAAAPgAAAFAAAABOAAAAQAAAAD4AAAAXAAAAPwAAACMAAAAYAAAAMwAAACYAAAAbAAAASwAAAEIAAABHAAAAEgAAADsAAAAmAAAAEwAAAD8AAAApAAAALwAAABQAAAAYAAAAOAAAAD8AAAAyAAAALwAAAEMAAAAWAAAAQwAAADUAAABHAAAARwAAAE0AAAAWAAAAFQAAADcAAAAoAAAATAAAAEkAAABDAAAAQgAAAEEAAAA7AAAAMAAAACQAAAA3AAAAPQAAACQAAABFAAAAFwAAAB4AAAAWAAAAMQAAACkAAAAgAAAAFQAAAC4AAAAjAAAAMgAAABgAAABGAAAAQgAAACoAAAA3AAAAMgAAAEcAAABGAAAAPgAAAC8AAAAdAAAAKQAAADIAAAA+AAAANAAAAE0AAABCAAAAEgAAAC8AAAAWAAAALwAAAB0AAABHAAAAHAAAACMAAAA7AAAATAAAACgAAAA4AAAAHgAAAD8AAAAUAAAAKwAAABcAAABIAAAALAAAACkAAAAmAAAAGgAAAEkAAABKAAAANAAAADMAAABJAAAANwAAAE8AAAAwAAAAMwAAAEMAAAATAAAAIAAAACgAAAAnAAAAJgAAAEwAAAAzAAAAMAAAAE0AAAA9AAAATwAAAB4AAAA3AAAASwAAABIAAAAoAAAALwAAAEQAAAAtAAAARwAAAEoAAAAYAAAAQAAAACAAAAApAAAAKAAAABIAAAAkAAAAFAAAACcAAAAdAAAAIwAAAB0AAABBAAAAEgAAACkAAABBAAAAQAAAACkAAAAhAAAATQAAABUAAAAWAAAASgAAABQAAAAlAAAASQAAADkAAABJAAAATQAAABIAAAAWAAAAPQAAADgAAAAxAAAANAAAACAAAAAfAAAAOwAAABcAAABOAAAAJgAAABUAAABIAAAAOAAAAEAAAAAWAAAAPgAAACMAAAATAAAANgAAAEcAAAA2AAAASAAAAB4AAABDAAAAMwAAABsAAAAhAAAAGwAAADUAAAAuAAAALQAAAE8AAABIAAAALAAAAC4AAABOAAAAGQAAADIAAAAkAAAALgAAADgAAAAgAAAAIAAAAEUAAAA6AAAATAAAAEAAAABMAAAAQwAAACoAAAATAAAAFgAAAE8AAAAUAAAAHwAAAEwAAABAAAAAJAAAADIAAAA8AAAAEwAAADgAAAAtAAAAJwAAABcAAABJAAAAMAAAAB0AAAAVAAAATQAAAEMAAAAyAAAAFAAAADAAAABEAAAAOgAAAE8AAAAiAAAAPgAAACsAAABGAAAANwAAACwAAAA5AAAANQAAABoAAAA4AAAAOAAAAEUAAAArAAAAGwAAADoAAABQAAAAOwAAABIAAAAxAAAALwAAAEEAAABNAAAAQAAAAEkAAABMAAAAEwAAADwAAAAsAAAALAAAABcAAAAXAAAAGAAAADUAAAA7AAAAMQAAABUAAAA/AAAAHgAAAC4AAAAjAAAAKgAAACUAAABDAAAAEwAAABQAAABOAAAAOgAAABgAAAAZAAAAQgAAACoAAAASAAAASAAAACgAAAAmAAAAMwAAAEMAAAAgAAAAJQAAAB4AAAAZAAAAMwAAABsAAAAvAAAAIAAAADAAAAAhAAAAHAAAABMAAAAaAAAAPwAAACcAAAAlAAAAPgAAAC8AAABIAAAAFQAAABMAAAAhAAAANAAAAD4AAABBAAAAKgAAAD4AAAAbAAAAQgAAACIAAAAlAAAARgAAAD8AAAAoAAAAPQAAAEEAAAAUAAAAQgAAABUAAAAwAAAAGQAAADsAAAAtAAAAHgAAABkAAAAVAAAAFgAAADAAAAAwAAAANQAAAEoAAAAqAAAAOgAAACoAAAAvAAAAKAAAACEAAAA6AAAAJAAAACMAAAAqAAAAFQAAADcAAAAnAAAASQAAAC0AAABJAAAAGgAAAE4AAAArAAAAFAAAACIAAAAtAAAAUAAAAE8AAABQAAAAMAAAADsAAAAbAAAAHAAAAE4AAAAeAAAALQAAAEcAAAA6AAAARAAAACAAAAA+AAAAIwAAADcAAAAeAAAAQgAAAC8AAABAAAAAKQAAABkAAAASAAAANwAAABoAAAA/AAAAPQAAABQAAABHAAAALwAAACUAAAAlAAAANgAAABkAAAAdAAAAJQAAADUAAAAaAAAATwAAACwAAAArAAAAMAAAACAAAAAkAAAAIAAAACcAAAATAAAARgAAACYAAAAaAAAAGAAAACUAAAAoAAAASAAAADsAAABDAAAAIwAAAE4AAAAeAAAAMgAAACoAAAASAAAAJAAAADMAAABLAAAAEgAAAD4AAAATAAAASgAAAEwAAAA9AAAAJQAAACQAAAAaAAAAHgAAADoAAAASAAAANgAAADQAAAA0AAAASgAAAEAAAAAZAAAAKwAAACMAAAAzAAAAFAAAABMAAAAUAAAAEgAAAEYAAAAlAAAAQwAAAEoAAABIAAAAGQAAAEEAAAAWAAAAGgAAABgAAAA6AAAAHwAAABMAAAAUAAAAOwAAADsAAAAiAAAAJgAAACwAAAAwAAAAHwAAAEoAAAAXAAAASwAAAB0AAABBAAAAJwAAAC8AAABAAAAAPgAAABoAAAAhAAAAMgAAACgAAAAkAAAASAAAACkAAAAuAAAAMwAAAB8AAAA8AAAAHwAAAEIAAAA9AAAAJgAAADcAAAAYAAAATAAAAD0AAABJAAAAPAAAAD4AAAAxAAAASQAAADkAAABCAAAASQAAAD4AAAA3AAAAFgAAAB0AAAAWAAAAOAAAABYAAAAbAAAAQwAAAD0AAABJAAAAMQAAADcAAABGAAAAHgAAAD0AAAAdAAAASwAAAE8AAAAXAAAAIgAAAB8AAAAyAAAAGwAAABIAAAA6AAAAKAAAADcAAAA0AAAAHQAAACIAAABKAAAAQAAAAEsAAAAzAAAAOwAAABoAAABAAAAAJQAAAD8AAAA4AAAAQgAAACAAAAArAAAAGwAAADMAAABOAAAATgAAABIAAABDAAAAMgAAAB0AAAATAAAAKgAAAFAAAABAAAAAFgAAADYAAAAlAAAAHQAAACAAAAArAAAAPgAAAC8AAAAnAAAAGgAAAD8AAABCAAAATQAAAC4AAAA6AAAAPwAAAEQAAAA0AAAASAAAADMAAABOAAAAHwAAAFAAAAAqAAAARgAAAFAAAAA7AAAAIgAAAEoAAAAZAAAAHAAAABkAAAASAAAAHQAAAFAAAAA5AAAANAAAAC8AAAAzAAAAHwAAABoAAABNAAAANQAAACUAAAA2AAAAQAAAABMAAAAaAAAAIgAAABkAAAA2AAAAMQAAADAAAABPAAAATQAAABkAAAAzAAAAFgAAAE8AAABLAAAATQAAADMAAAA2AAAAGgAAAEMAAAAbAAAAFgAAAE4AAAASAAAANwAAACYAAAA+AAAAMAAAAC0AAABCAAAANwAAABkAAAA8AAAAFQAAADYAAABBAAAAUAAAABYAAAAlAAAAHAAAABYAAABGAAAARwAAAB4AAAAqAAAAHQAAAEsAAAAnAAAAOgAAACMAAAATAAAATgAAABQAAAArAAAATAAAAD8AAAATAAAARQAAACgAAAA3AAAANAAAACwAAABKAAAAHgAAADwAAAAsAAAATQAAACcAAABGAAAAOwAAACsAAAA/AAAALQAAABQAAAA6AAAAMwAAACMAAAA2AAAANQAAABUAAAAuAAAAJQAAABwAAABPAAAAMwAAACwAAABNAAAAQgAAADgAAAAqAAAAFgAAACcAAAAyAAAAFQAAAD0AAAAqAAAASgAAADAAAAA5AAAAPgAAACcAAAAcAAAANQAAABYAAAA0AAAAKwAAACYAAAAuAAAAQwAAADIAAAAZAAAAMgAAAB8AAAAkAAAAMwAAACoAAAAvAAAAKwAAABwAAAAwAAAAQAAAAEoAAABDAAAAFgAAAD8AAABNAAAALAAAAEIAAAAmAAAANAAAADoAAAAZAAAARAAAAEkAAAAUAAAAUAAAAE4AAAAUAAAAGQAAABIAAAAcAAAARQAAABcAAAAZAAAASAAAAE4AAAA6AAAASwAAAE4AAAA5AAAAUAAAAB0AAABCAAAAMQAAADAAAAA4AAAARgAAACUAAAA9AAAATAAAAFAAAABJAAAANQAAACEAAAAbAAAAEwAAADQAAABKAAAAMgAAADMAAAAuAAAAMQAAACAAAAAUAAAAUAAAACwAAAAuAAAAJgAAAEMAAAAgAAAATgAAACsAAAA8AAAAJQAAADsAAABOAAAAHgAAAEMAAAAqAAAAOQAAAEYAAABFAAAARgAAABsAAAAUAAAATgAAACIAAAAzAAAANAAAADwAAAA+AAAAHwAAADoAAAAlAAAAHwAAADkAAAAqAAAASQAAAEoAAAA2AAAALAAAACQAAAAhAAAAFQAAAD4AAAAtAAAAFwAAACwAAAATAAAAFgAAAFAAAABJAAAALQAAADYAAAAlAAAAKwAAABwAAAAZAAAAGAAAAFAAAAAjAAAAQwAAAE0AAAATAAAAOQAAACkAAABGAAAAEwAAACwAAABQAAAAHwAAADkAAABHAAAAJwAAADYAAAAXAAAAHAAAADcAAAAtAAAASgAAAB4AAABIAAAAPwAAADoAAAA4AAAAKwAAADUAAAAnAAAAGAAAAEIAAAAqAAAAFAAAAEkAAAAuAAAAJQAAADkAAAA6AAAAGgAAAB4AAAA7AAAAGwAAAEoAAAApAAAAFwAAAEQAAABPAAAAFQAAADEAAAA4AAAAQQAAABMAAAA3AAAAJgAAADMAAAA6AAAAMAAAACQAAAAVAAAAKgAAAB8AAAAlAAAASQAAAC8AAAApAAAATgAAAEgAAAAiAAAAQQAAACwAAAAoAAAAMwAAABQAAAAyAAAAMAAAADwAAAA4AAAATAAAABYAAAApAAAATQAAAD4AAABPAAAATgAAAFAAAABBAAAALAAAADMAAABPAAAAEwAAADUAAAApAAAASAAAABoAAAA0AAAAKwAAADYAAAAnAAAASQAAABUAAABFAAAAOAAAADAAAABDAAAATAAAABYAAAA5AAAAPwAAADIAAAAaAAAAIAAAADsAAAAmAAAANwAAAD0AAAAoAAAAFAAAABUAAAApAAAAHwAAACcAAAAdAAAAQQAAACAAAAAjAAAAPgAAABoAAAAaAAAALAAAACoAAABNAAAALwAAADIAAAAaAAAASgAAAA==",
          "dtype": "i4"
         },
         "y": {
          "bdata": "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",
          "dtype": "f8"
         }
        }
       ],
       "layout": {
        "showlegend": true,
        "template": {
         "data": {
          "bar": [
           {
            "error_x": {
             "color": "#f2f5fa"
            },
            "error_y": {
             "color": "#f2f5fa"
            },
            "marker": {
             "line": {
              "color": "rgb(17,17,17)",
              "width": 0.5
             },
             "pattern": {
              "fillmode": "overlay",
              "size": 10,
              "solidity": 0.2
             }
            },
            "type": "bar"
           }
          ],
          "barpolar": [
           {
            "marker": {
             "line": {
              "color": "rgb(17,17,17)",
              "width": 0.5
             },
             "pattern": {
              "fillmode": "overlay",
              "size": 10,
              "solidity": 0.2
             }
            },
            "type": "barpolar"
           }
          ],
          "carpet": [
           {
            "aaxis": {
             "endlinecolor": "#A2B1C6",
             "gridcolor": "#506784",
             "linecolor": "#506784",
             "minorgridcolor": "#506784",
             "startlinecolor": "#A2B1C6"
            },
            "baxis": {
             "endlinecolor": "#A2B1C6",
             "gridcolor": "#506784",
             "linecolor": "#506784",
             "minorgridcolor": "#506784",
             "startlinecolor": "#A2B1C6"
            },
            "type": "carpet"
           }
          ],
          "choropleth": [
           {
            "colorbar": {
             "outlinewidth": 0,
             "ticks": ""
            },
            "type": "choropleth"
           }
          ],
          "contour": [
           {
            "colorbar": {
             "outlinewidth": 0,
             "ticks": ""
            },
            "colorscale": [
             [
              0,
              "#0d0887"
             ],
             [
              0.1111111111111111,
              "#46039f"
             ],
             [
              0.2222222222222222,
              "#7201a8"
             ],
             [
              0.3333333333333333,
              "#9c179e"
             ],
             [
              0.4444444444444444,
              "#bd3786"
             ],
             [
              0.5555555555555556,
              "#d8576b"
             ],
             [
              0.6666666666666666,
              "#ed7953"
             ],
             [
              0.7777777777777778,
              "#fb9f3a"
             ],
             [
              0.8888888888888888,
              "#fdca26"
             ],
             [
              1,
              "#f0f921"
             ]
            ],
            "type": "contour"
           }
          ],
          "contourcarpet": [
           {
            "colorbar": {
             "outlinewidth": 0,
             "ticks": ""
            },
            "type": "contourcarpet"
           }
          ],
          "heatmap": [
           {
            "colorbar": {
             "outlinewidth": 0,
             "ticks": ""
            },
            "colorscale": [
             [
              0,
              "#0d0887"
             ],
             [
              0.1111111111111111,
              "#46039f"
             ],
             [
              0.2222222222222222,
              "#7201a8"
             ],
             [
              0.3333333333333333,
              "#9c179e"
             ],
             [
              0.4444444444444444,
              "#bd3786"
             ],
             [
              0.5555555555555556,
              "#d8576b"
             ],
             [
              0.6666666666666666,
              "#ed7953"
             ],
             [
              0.7777777777777778,
              "#fb9f3a"
             ],
             [
              0.8888888888888888,
              "#fdca26"
             ],
             [
              1,
              "#f0f921"
             ]
            ],
            "type": "heatmap"
           }
          ],
          "histogram": [
           {
            "marker": {
             "pattern": {
              "fillmode": "overlay",
              "size": 10,
              "solidity": 0.2
             }
            },
            "type": "histogram"
           }
          ],
          "histogram2d": [
           {
            "colorbar": {
             "outlinewidth": 0,
             "ticks": ""
            },
            "colorscale": [
             [
              0,
              "#0d0887"
             ],
             [
              0.1111111111111111,
              "#46039f"
             ],
             [
              0.2222222222222222,
              "#7201a8"
             ],
             [
              0.3333333333333333,
              "#9c179e"
             ],
             [
              0.4444444444444444,
              "#bd3786"
             ],
             [
              0.5555555555555556,
              "#d8576b"
             ],
             [
              0.6666666666666666,
              "#ed7953"
             ],
             [
              0.7777777777777778,
              "#fb9f3a"
             ],
             [
              0.8888888888888888,
              "#fdca26"
             ],
             [
              1,
              "#f0f921"
             ]
            ],
            "type": "histogram2d"
           }
          ],
          "histogram2dcontour": [
           {
            "colorbar": {
             "outlinewidth": 0,
             "ticks": ""
            },
            "colorscale": [
             [
              0,
              "#0d0887"
             ],
             [
              0.1111111111111111,
              "#46039f"
             ],
             [
              0.2222222222222222,
              "#7201a8"
             ],
             [
              0.3333333333333333,
              "#9c179e"
             ],
             [
              0.4444444444444444,
              "#bd3786"
             ],
             [
              0.5555555555555556,
              "#d8576b"
             ],
             [
              0.6666666666666666,
              "#ed7953"
             ],
             [
              0.7777777777777778,
              "#fb9f3a"
             ],
             [
              0.8888888888888888,
              "#fdca26"
             ],
             [
              1,
              "#f0f921"
             ]
            ],
            "type": "histogram2dcontour"
           }
          ],
          "mesh3d": [
           {
            "colorbar": {
             "outlinewidth": 0,
             "ticks": ""
            },
            "type": "mesh3d"
           }
          ],
          "parcoords": [
           {
            "line": {
             "colorbar": {
              "outlinewidth": 0,
              "ticks": ""
             }
            },
            "type": "parcoords"
           }
          ],
          "pie": [
           {
            "automargin": true,
            "type": "pie"
           }
          ],
          "scatter": [
           {
            "marker": {
             "line": {
              "color": "#283442"
             }
            },
            "type": "scatter"
           }
          ],
          "scatter3d": [
           {
            "line": {
             "colorbar": {
              "outlinewidth": 0,
              "ticks": ""
             }
            },
            "marker": {
             "colorbar": {
              "outlinewidth": 0,
              "ticks": ""
             }
            },
            "type": "scatter3d"
           }
          ],
          "scattercarpet": [
           {
            "marker": {
             "colorbar": {
              "outlinewidth": 0,
              "ticks": ""
             }
            },
            "type": "scattercarpet"
           }
          ],
          "scattergeo": [
           {
            "marker": {
             "colorbar": {
              "outlinewidth": 0,
              "ticks": ""
             }
            },
            "type": "scattergeo"
           }
          ],
          "scattergl": [
           {
            "marker": {
             "line": {
              "color": "#283442"
             }
            },
            "type": "scattergl"
           }
          ],
          "scattermap": [
           {
            "marker": {
             "colorbar": {
              "outlinewidth": 0,
              "ticks": ""
             }
            },
            "type": "scattermap"
           }
          ],
          "scattermapbox": [
           {
            "marker": {
             "colorbar": {
              "outlinewidth": 0,
              "ticks": ""
             }
            },
            "type": "scattermapbox"
           }
          ],
          "scatterpolar": [
           {
            "marker": {
             "colorbar": {
              "outlinewidth": 0,
              "ticks": ""
             }
            },
            "type": "scatterpolar"
           }
          ],
          "scatterpolargl": [
           {
            "marker": {
             "colorbar": {
              "outlinewidth": 0,
              "ticks": ""
             }
            },
            "type": "scatterpolargl"
           }
          ],
          "scatterternary": [
           {
            "marker": {
             "colorbar": {
              "outlinewidth": 0,
              "ticks": ""
             }
            },
            "type": "scatterternary"
           }
          ],
          "surface": [
           {
            "colorbar": {
             "outlinewidth": 0,
             "ticks": ""
            },
            "colorscale": [
             [
              0,
              "#0d0887"
             ],
             [
              0.1111111111111111,
              "#46039f"
             ],
             [
              0.2222222222222222,
              "#7201a8"
             ],
             [
              0.3333333333333333,
              "#9c179e"
             ],
             [
              0.4444444444444444,
              "#bd3786"
             ],
             [
              0.5555555555555556,
              "#d8576b"
             ],
             [
              0.6666666666666666,
              "#ed7953"
             ],
             [
              0.7777777777777778,
              "#fb9f3a"
             ],
             [
              0.8888888888888888,
              "#fdca26"
             ],
             [
              1,
              "#f0f921"
             ]
            ],
            "type": "surface"
           }
          ],
          "table": [
           {
            "cells": {
             "fill": {
              "color": "#506784"
             },
             "line": {
              "color": "rgb(17,17,17)"
             }
            },
            "header": {
             "fill": {
              "color": "#2a3f5f"
             },
             "line": {
              "color": "rgb(17,17,17)"
             }
            },
            "type": "table"
           }
          ]
         },
         "layout": {
          "annotationdefaults": {
           "arrowcolor": "#f2f5fa",
           "arrowhead": 0,
           "arrowwidth": 1
          },
          "autotypenumbers": "strict",
          "coloraxis": {
           "colorbar": {
            "outlinewidth": 0,
            "ticks": ""
           }
          },
          "colorscale": {
           "diverging": [
            [
             0,
             "#8e0152"
            ],
            [
             0.1,
             "#c51b7d"
            ],
            [
             0.2,
             "#de77ae"
            ],
            [
             0.3,
             "#f1b6da"
            ],
            [
             0.4,
             "#fde0ef"
            ],
            [
             0.5,
             "#f7f7f7"
            ],
            [
             0.6,
             "#e6f5d0"
            ],
            [
             0.7,
             "#b8e186"
            ],
            [
             0.8,
             "#7fbc41"
            ],
            [
             0.9,
             "#4d9221"
            ],
            [
             1,
             "#276419"
            ]
           ],
           "sequential": [
            [
             0,
             "#0d0887"
            ],
            [
             0.1111111111111111,
             "#46039f"
            ],
            [
             0.2222222222222222,
             "#7201a8"
            ],
            [
             0.3333333333333333,
             "#9c179e"
            ],
            [
             0.4444444444444444,
             "#bd3786"
            ],
            [
             0.5555555555555556,
             "#d8576b"
            ],
            [
             0.6666666666666666,
             "#ed7953"
            ],
            [
             0.7777777777777778,
             "#fb9f3a"
            ],
            [
             0.8888888888888888,
             "#fdca26"
            ],
            [
             1,
             "#f0f921"
            ]
           ],
           "sequentialminus": [
            [
             0,
             "#0d0887"
            ],
            [
             0.1111111111111111,
             "#46039f"
            ],
            [
             0.2222222222222222,
             "#7201a8"
            ],
            [
             0.3333333333333333,
             "#9c179e"
            ],
            [
             0.4444444444444444,
             "#bd3786"
            ],
            [
             0.5555555555555556,
             "#d8576b"
            ],
            [
             0.6666666666666666,
             "#ed7953"
            ],
            [
             0.7777777777777778,
             "#fb9f3a"
            ],
            [
             0.8888888888888888,
             "#fdca26"
            ],
            [
             1,
             "#f0f921"
            ]
           ]
          },
          "colorway": [
           "#636efa",
           "#EF553B",
           "#00cc96",
           "#ab63fa",
           "#FFA15A",
           "#19d3f3",
           "#FF6692",
           "#B6E880",
           "#FF97FF",
           "#FECB52"
          ],
          "font": {
           "color": "#f2f5fa"
          },
          "geo": {
           "bgcolor": "rgb(17,17,17)",
           "lakecolor": "rgb(17,17,17)",
           "landcolor": "rgb(17,17,17)",
           "showlakes": true,
           "showland": true,
           "subunitcolor": "#506784"
          },
          "hoverlabel": {
           "align": "left"
          },
          "hovermode": "closest",
          "mapbox": {
           "style": "dark"
          },
          "paper_bgcolor": "rgb(17,17,17)",
          "plot_bgcolor": "rgb(17,17,17)",
          "polar": {
           "angularaxis": {
            "gridcolor": "#506784",
            "linecolor": "#506784",
            "ticks": ""
           },
           "bgcolor": "rgb(17,17,17)",
           "radialaxis": {
            "gridcolor": "#506784",
            "linecolor": "#506784",
            "ticks": ""
           }
          },
          "scene": {
           "xaxis": {
            "backgroundcolor": "rgb(17,17,17)",
            "gridcolor": "#506784",
            "gridwidth": 2,
            "linecolor": "#506784",
            "showbackground": true,
            "ticks": "",
            "zerolinecolor": "#C8D4E3"
           },
           "yaxis": {
            "backgroundcolor": "rgb(17,17,17)",
            "gridcolor": "#506784",
            "gridwidth": 2,
            "linecolor": "#506784",
            "showbackground": true,
            "ticks": "",
            "zerolinecolor": "#C8D4E3"
           },
           "zaxis": {
            "backgroundcolor": "rgb(17,17,17)",
            "gridcolor": "#506784",
            "gridwidth": 2,
            "linecolor": "#506784",
            "showbackground": true,
            "ticks": "",
            "zerolinecolor": "#C8D4E3"
           }
          },
          "shapedefaults": {
           "line": {
            "color": "#f2f5fa"
           }
          },
          "sliderdefaults": {
           "bgcolor": "#C8D4E3",
           "bordercolor": "rgb(17,17,17)",
           "borderwidth": 1,
           "tickwidth": 0
          },
          "ternary": {
           "aaxis": {
            "gridcolor": "#506784",
            "linecolor": "#506784",
            "ticks": ""
           },
           "baxis": {
            "gridcolor": "#506784",
            "linecolor": "#506784",
            "ticks": ""
           },
           "bgcolor": "rgb(17,17,17)",
           "caxis": {
            "gridcolor": "#506784",
            "linecolor": "#506784",
            "ticks": ""
           }
          },
          "title": {
           "x": 0.05
          },
          "updatemenudefaults": {
           "bgcolor": "#506784",
           "borderwidth": 0
          },
          "xaxis": {
           "automargin": true,
           "gridcolor": "#283442",
           "linecolor": "#506784",
           "ticks": "",
           "title": {
            "standoff": 15
           },
           "zerolinecolor": "#283442",
           "zerolinewidth": 2
          },
          "yaxis": {
           "automargin": true,
           "gridcolor": "#283442",
           "linecolor": "#506784",
           "ticks": "",
           "title": {
            "standoff": 15
           },
           "zerolinecolor": "#283442",
           "zerolinewidth": 2
          }
         }
        },
        "title": {
         "text": "Simple Linear Regression"
        },
        "xaxis": {
         "title": {
          "text": "Age"
         }
        },
        "yaxis": {
         "title": {
          "text": "Salary"
         }
        }
       }
      }
     },
     "metadata": {},
     "output_type": "display_data"
    }
   ],
   "source": [
    "fig = go.Figure()\n",
    "\n",
    "# Creating the real records line graph;\n",
    "fig.add_trace(go.Scatter(\n",
    "    x=x, \n",
    "    y=y, \n",
    "    mode='markers', \n",
    "    name='Dataset',\n",
    "    marker=dict(color='blue')\n",
    "))\n",
    "\n",
    "# Creating the predicted records line graph;\n",
    "fig.add_trace(go.Scatter(\n",
    "    x=x, \n",
    "    y=y_predict, \n",
    "    mode='lines',  # Apenas a linha\n",
    "    name='Model',\n",
    "    line=dict(color='red', width=3)\n",
    "))\n",
    "\n",
    "# Adjusting the layout\n",
    "fig.update_layout(\n",
    "    title='Simple Linear Regression',\n",
    "    xaxis_title='Age',\n",
    "    yaxis_title='Salary',\n",
    "    showlegend=True,\n",
    "    template='plotly_dark' \n",
    ")\n",
    "\n",
    "fig.show()"
   ]
  },
  {
   "cell_type": "markdown",
   "id": "cd1bd109",
   "metadata": {},
   "source": [
    "### **5. Evaluating the model's perfomance:**"
   ]
  },
  {
   "cell_type": "code",
   "execution_count": 61,
   "id": "747fe23e",
   "metadata": {},
   "outputs": [
    {
     "name": "stdout",
     "output_type": "stream",
     "text": [
      "R squared: 0.9406403354943975\n",
      "Root Mean Squared Erro: 1408.1140265191432\n"
     ]
    }
   ],
   "source": [
    "def r_squared(y_true, y_predict):\n",
    "    sumPredict = 0\n",
    "    yMean = mean(y_true)\n",
    "    sumMeanY = 0\n",
    "\n",
    "    for i in range(len(y_true)):\n",
    "        sumPredict += ((y_true[i] - y_predict[i])**2)\n",
    "        sumMeanY += ((y_true[i] - yMean)**2)\n",
    "    \n",
    "    return 1 - (sumPredict / sumMeanY)\n",
    "\n",
    "def rmse(y_true, y_predict):\n",
    "    sumPredict = 0\n",
    "    n = len(y_true)\n",
    "\n",
    "    for i in range(len(y_true)):\n",
    "        sumPredict += ((y_true[i] - y_predict[i])**2)\n",
    "    \n",
    "    return (sumPredict / n)**0.5\n",
    "\n",
    "print(f\"R squared: {r_squared(y_true=y, y_predict=y_predict)}\\nRoot Mean Squared Erro: {rmse(y_true=y, y_predict=y_predict)}\")\n",
    "\n"
   ]
  }
 ],
 "metadata": {
  "kernelspec": {
   "display_name": "venv (3.12.7)",
   "language": "python",
   "name": "python3"
  },
  "language_info": {
   "codemirror_mode": {
    "name": "ipython",
    "version": 3
   },
   "file_extension": ".py",
   "mimetype": "text/x-python",
   "name": "python",
   "nbconvert_exporter": "python",
   "pygments_lexer": "ipython3",
   "version": "3.12.7"
  }
 },
 "nbformat": 4,
 "nbformat_minor": 5
}
