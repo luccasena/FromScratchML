{
 "cells": [
  {
   "cell_type": "markdown",
   "id": "b6eecd37",
   "metadata": {},
   "source": [
    "## **Linear Regression From Scratch**\n",
    "Student: Lucca de Sena Barbosa\n",
    "\n",
    "Graduation: Computer Science - 2025.2\n",
    "\n",
    "- **Case study**: Forecast the an employee's salary based on their age;\n",
    "- **Objective**: Understanding how linear regression models work from scratch;"
   ]
  },
  {
   "cell_type": "markdown",
   "id": "2f51049d",
   "metadata": {},
   "source": [
    "### **1. Importing the necessary libraries;**"
   ]
  },
  {
   "cell_type": "code",
   "execution_count": 1,
   "id": "1194e033",
   "metadata": {},
   "outputs": [],
   "source": [
    "import pandas as pd\n",
    "import numpy as np\n",
    "import plotly.graph_objects as go\n",
    "from sklearn.linear_model import LinearRegression"
   ]
  },
  {
   "cell_type": "markdown",
   "id": "75da47cf",
   "metadata": {},
   "source": [
    "### **2. Creating an Simple Dataset;**"
   ]
  },
  {
   "cell_type": "code",
   "execution_count": 2,
   "id": "b86e73d4",
   "metadata": {},
   "outputs": [],
   "source": [
    "quantity = 1000\n",
    "\n",
    "age = np.random.randint(18, 81, quantity)\n",
    "\n",
    "salary = 800 + (age - 18) * (20000 - 800) / (80 - 18)  \n",
    "noise = np.random.normal(0, 1500, quantity)  \n",
    "salary = np.clip(salary + noise, 800, 20000) \n",
    "\n",
    "# Criar DataFrame\n",
    "dataframe = pd.DataFrame({\n",
    "    \"Age\": age,\n",
    "    \"Salary\": salary.astype(int)\n",
    "})"
   ]
  },
  {
   "cell_type": "code",
   "execution_count": 3,
   "id": "fd2e5980",
   "metadata": {},
   "outputs": [
    {
     "data": {
      "application/vnd.microsoft.datawrangler.viewer.v0+json": {
       "columns": [
        {
         "name": "index",
         "rawType": "int64",
         "type": "integer"
        },
        {
         "name": "Age",
         "rawType": "int32",
         "type": "integer"
        },
        {
         "name": "Salary",
         "rawType": "int64",
         "type": "integer"
        }
       ],
       "ref": "d84c5d35-f3ac-4b83-a0b6-4e0fb7e370bf",
       "rows": [
        [
         "0",
         "79",
         "18459"
        ],
        [
         "1",
         "77",
         "19016"
        ],
        [
         "2",
         "50",
         "8071"
        ],
        [
         "3",
         "36",
         "3850"
        ],
        [
         "4",
         "69",
         "14806"
        ],
        [
         "5",
         "78",
         "19532"
        ],
        [
         "6",
         "64",
         "16417"
        ],
        [
         "7",
         "80",
         "20000"
        ],
        [
         "8",
         "41",
         "6728"
        ],
        [
         "9",
         "63",
         "14795"
        ],
        [
         "10",
         "78",
         "20000"
        ],
        [
         "11",
         "27",
         "4429"
        ],
        [
         "12",
         "77",
         "19189"
        ],
        [
         "13",
         "28",
         "800"
        ],
        [
         "14",
         "75",
         "17912"
        ],
        [
         "15",
         "63",
         "16780"
        ],
        [
         "16",
         "42",
         "7643"
        ],
        [
         "17",
         "19",
         "800"
        ],
        [
         "18",
         "65",
         "14955"
        ],
        [
         "19",
         "77",
         "17662"
        ],
        [
         "20",
         "54",
         "13052"
        ],
        [
         "21",
         "64",
         "17029"
        ],
        [
         "22",
         "65",
         "16229"
        ],
        [
         "23",
         "49",
         "12251"
        ],
        [
         "24",
         "22",
         "4402"
        ],
        [
         "25",
         "26",
         "4442"
        ],
        [
         "26",
         "32",
         "4148"
        ],
        [
         "27",
         "55",
         "10942"
        ],
        [
         "28",
         "22",
         "2026"
        ],
        [
         "29",
         "19",
         "1285"
        ],
        [
         "30",
         "44",
         "6335"
        ],
        [
         "31",
         "76",
         "16394"
        ],
        [
         "32",
         "18",
         "1411"
        ],
        [
         "33",
         "21",
         "2123"
        ],
        [
         "34",
         "61",
         "15340"
        ],
        [
         "35",
         "37",
         "7384"
        ],
        [
         "36",
         "66",
         "15668"
        ],
        [
         "37",
         "27",
         "3883"
        ],
        [
         "38",
         "58",
         "14920"
        ],
        [
         "39",
         "42",
         "7408"
        ],
        [
         "40",
         "63",
         "12864"
        ],
        [
         "41",
         "65",
         "14664"
        ],
        [
         "42",
         "54",
         "12041"
        ],
        [
         "43",
         "63",
         "14187"
        ],
        [
         "44",
         "52",
         "12824"
        ],
        [
         "45",
         "39",
         "7368"
        ],
        [
         "46",
         "19",
         "1432"
        ],
        [
         "47",
         "27",
         "5474"
        ],
        [
         "48",
         "35",
         "6949"
        ],
        [
         "49",
         "24",
         "3356"
        ]
       ],
       "shape": {
        "columns": 2,
        "rows": 1000
       }
      },
      "text/html": [
       "<div>\n",
       "<style scoped>\n",
       "    .dataframe tbody tr th:only-of-type {\n",
       "        vertical-align: middle;\n",
       "    }\n",
       "\n",
       "    .dataframe tbody tr th {\n",
       "        vertical-align: top;\n",
       "    }\n",
       "\n",
       "    .dataframe thead th {\n",
       "        text-align: right;\n",
       "    }\n",
       "</style>\n",
       "<table border=\"1\" class=\"dataframe\">\n",
       "  <thead>\n",
       "    <tr style=\"text-align: right;\">\n",
       "      <th></th>\n",
       "      <th>Age</th>\n",
       "      <th>Salary</th>\n",
       "    </tr>\n",
       "  </thead>\n",
       "  <tbody>\n",
       "    <tr>\n",
       "      <th>0</th>\n",
       "      <td>79</td>\n",
       "      <td>18459</td>\n",
       "    </tr>\n",
       "    <tr>\n",
       "      <th>1</th>\n",
       "      <td>77</td>\n",
       "      <td>19016</td>\n",
       "    </tr>\n",
       "    <tr>\n",
       "      <th>2</th>\n",
       "      <td>50</td>\n",
       "      <td>8071</td>\n",
       "    </tr>\n",
       "    <tr>\n",
       "      <th>3</th>\n",
       "      <td>36</td>\n",
       "      <td>3850</td>\n",
       "    </tr>\n",
       "    <tr>\n",
       "      <th>4</th>\n",
       "      <td>69</td>\n",
       "      <td>14806</td>\n",
       "    </tr>\n",
       "    <tr>\n",
       "      <th>...</th>\n",
       "      <td>...</td>\n",
       "      <td>...</td>\n",
       "    </tr>\n",
       "    <tr>\n",
       "      <th>995</th>\n",
       "      <td>39</td>\n",
       "      <td>8726</td>\n",
       "    </tr>\n",
       "    <tr>\n",
       "      <th>996</th>\n",
       "      <td>21</td>\n",
       "      <td>800</td>\n",
       "    </tr>\n",
       "    <tr>\n",
       "      <th>997</th>\n",
       "      <td>41</td>\n",
       "      <td>7396</td>\n",
       "    </tr>\n",
       "    <tr>\n",
       "      <th>998</th>\n",
       "      <td>49</td>\n",
       "      <td>10994</td>\n",
       "    </tr>\n",
       "    <tr>\n",
       "      <th>999</th>\n",
       "      <td>61</td>\n",
       "      <td>13431</td>\n",
       "    </tr>\n",
       "  </tbody>\n",
       "</table>\n",
       "<p>1000 rows × 2 columns</p>\n",
       "</div>"
      ],
      "text/plain": [
       "     Age  Salary\n",
       "0     79   18459\n",
       "1     77   19016\n",
       "2     50    8071\n",
       "3     36    3850\n",
       "4     69   14806\n",
       "..   ...     ...\n",
       "995   39    8726\n",
       "996   21     800\n",
       "997   41    7396\n",
       "998   49   10994\n",
       "999   61   13431\n",
       "\n",
       "[1000 rows x 2 columns]"
      ]
     },
     "execution_count": 3,
     "metadata": {},
     "output_type": "execute_result"
    }
   ],
   "source": [
    "dataframe"
   ]
  },
  {
   "cell_type": "markdown",
   "id": "4d596e59",
   "metadata": {},
   "source": [
    "### **3. Creating the model:**"
   ]
  },
  {
   "cell_type": "markdown",
   "id": "810b15fb",
   "metadata": {},
   "source": [
    "#### **3.1 Simple Linear Regression (y):**\n",
    "\n",
    "$$\n",
    "y = m \\cdot x + b\n",
    "$$\n",
    "\n",
    "- We need to define the **inclination(m)** and **interception(b)** values for building the function which represents the model.\n",
    "\n",
    "---\n",
    "\n",
    "#### **3.2 Inclination (m):**\n",
    "\n",
    "$$\n",
    "m = \\frac{\\operatorname{Cov}(X,Y)}{\\operatorname{Var}(x)}\n",
    "$$\n",
    "\n",
    "**3.2.1 Covarience (Cov):**\n",
    "\n",
    "$$\n",
    "\\operatorname{Cov}(X,Y) = \\frac{\\sum_{i=1}^{n} (x_i - \\bar{x})(y_i - \\bar{y})}{n-1}\n",
    "$$\n",
    "\n",
    "\n",
    "**3.2.3 Varience (Var):**\n",
    "\n",
    "$$\n",
    "\\operatorname{Var}(x) = \\frac{\\sum_{i=1}^{n} (x_i - \\bar{x})^2}{n-1}\n",
    "$$\n",
    "\n",
    "---\n",
    "\n",
    "#### **3.3 Interception (b):**\n",
    "\n",
    "$$\n",
    "b = \\bar{y} - m \\cdot \\bar{x}\n",
    "$$\n",
    "\n",
    "---"
   ]
  },
  {
   "cell_type": "code",
   "execution_count": 50,
   "id": "d85664eb",
   "metadata": {},
   "outputs": [],
   "source": [
    "def mean(values):\n",
    "    \"\"\"\n",
    "    Calculate the mean of list\n",
    "    \"\"\"\n",
    "    n = len(dataframe)\n",
    "    sum = 0\n",
    "    for i in range(n):\n",
    "            sum += values[i]\n",
    "\n",
    "    return sum / n\n",
    "\n",
    "class SimpleRegression:\n",
    "    def __init__(self):\n",
    "        # Initializing the model parameters:\n",
    "        self.m = None # Line Inclination (m)\n",
    "        self.b = None # Interception (b)\n",
    "\n",
    "    def inclination(self, x, y):\n",
    "        \"\"\"\n",
    "        Calculate the inclination of the regression line based on the dataframe.\n",
    "                                    m = Cov(X,Y) / Var(x)\n",
    "        \"\"\"\n",
    "        xMean = mean(x)\n",
    "        yMean = mean(y)\n",
    "        n = len(x)\n",
    "\n",
    "        sum_squared_x = 0\n",
    "        sum_covariance = 0\n",
    "\n",
    "        for i in range(x.shape[0]):\n",
    "            sum_squared_x += ((x[i] - xMean)**2)\n",
    "            sum_covariance += ((x[i] - xMean))*((y[i] - yMean))\n",
    "        \n",
    "        VarX = sum_squared_x / (n - 1)\n",
    "        CovXY = sum_covariance / (n - 1)\n",
    "\n",
    "        return CovXY / VarX\n",
    "\n",
    "    def interception(self, xMedia, yMedia, m):\n",
    "        b = yMedia - (m*xMedia) \n",
    "        return b\n",
    "\n",
    "    def print_value(self):\n",
    "        print(f\"{self.m}, {self.b}\")\n",
    "        \n",
    "\n",
    "    def fit(self, x, y):\n",
    "        self.m = self.inclination(x, y)\n",
    "        self.b = self.interception(mean(x), mean(y), self.m)\n",
    "\n",
    "    def predict(self, value):\n",
    "        try: \n",
    "           y = (self.m*value) + self.b\n",
    "\n",
    "        except Exception as e:\n",
    "           print(f\"An error has occured while attempting to make the forecast!\\nErro: {e}\")\n",
    "        \n",
    "        else:\n",
    "            return y\n",
    "\n",
    "x = dataframe.iloc[:, 0].values\n",
    "y = dataframe.iloc[:, 1].values\n",
    "\n",
    "model = LinearRegression()\n",
    "model.fit(x.reshape(-1, 1), y)\n",
    "y_predict = model.predict(x.reshape(-1, 1))\n"
   ]
  },
  {
   "cell_type": "code",
   "execution_count": 51,
   "id": "b0f8a457",
   "metadata": {},
   "outputs": [
    {
     "data": {
      "text/html": [
       "<style>#sk-container-id-6 {\n",
       "  /* Definition of color scheme common for light and dark mode */\n",
       "  --sklearn-color-text: #000;\n",
       "  --sklearn-color-text-muted: #666;\n",
       "  --sklearn-color-line: gray;\n",
       "  /* Definition of color scheme for unfitted estimators */\n",
       "  --sklearn-color-unfitted-level-0: #fff5e6;\n",
       "  --sklearn-color-unfitted-level-1: #f6e4d2;\n",
       "  --sklearn-color-unfitted-level-2: #ffe0b3;\n",
       "  --sklearn-color-unfitted-level-3: chocolate;\n",
       "  /* Definition of color scheme for fitted estimators */\n",
       "  --sklearn-color-fitted-level-0: #f0f8ff;\n",
       "  --sklearn-color-fitted-level-1: #d4ebff;\n",
       "  --sklearn-color-fitted-level-2: #b3dbfd;\n",
       "  --sklearn-color-fitted-level-3: cornflowerblue;\n",
       "\n",
       "  /* Specific color for light theme */\n",
       "  --sklearn-color-text-on-default-background: var(--sg-text-color, var(--theme-code-foreground, var(--jp-content-font-color1, black)));\n",
       "  --sklearn-color-background: var(--sg-background-color, var(--theme-background, var(--jp-layout-color0, white)));\n",
       "  --sklearn-color-border-box: var(--sg-text-color, var(--theme-code-foreground, var(--jp-content-font-color1, black)));\n",
       "  --sklearn-color-icon: #696969;\n",
       "\n",
       "  @media (prefers-color-scheme: dark) {\n",
       "    /* Redefinition of color scheme for dark theme */\n",
       "    --sklearn-color-text-on-default-background: var(--sg-text-color, var(--theme-code-foreground, var(--jp-content-font-color1, white)));\n",
       "    --sklearn-color-background: var(--sg-background-color, var(--theme-background, var(--jp-layout-color0, #111)));\n",
       "    --sklearn-color-border-box: var(--sg-text-color, var(--theme-code-foreground, var(--jp-content-font-color1, white)));\n",
       "    --sklearn-color-icon: #878787;\n",
       "  }\n",
       "}\n",
       "\n",
       "#sk-container-id-6 {\n",
       "  color: var(--sklearn-color-text);\n",
       "}\n",
       "\n",
       "#sk-container-id-6 pre {\n",
       "  padding: 0;\n",
       "}\n",
       "\n",
       "#sk-container-id-6 input.sk-hidden--visually {\n",
       "  border: 0;\n",
       "  clip: rect(1px 1px 1px 1px);\n",
       "  clip: rect(1px, 1px, 1px, 1px);\n",
       "  height: 1px;\n",
       "  margin: -1px;\n",
       "  overflow: hidden;\n",
       "  padding: 0;\n",
       "  position: absolute;\n",
       "  width: 1px;\n",
       "}\n",
       "\n",
       "#sk-container-id-6 div.sk-dashed-wrapped {\n",
       "  border: 1px dashed var(--sklearn-color-line);\n",
       "  margin: 0 0.4em 0.5em 0.4em;\n",
       "  box-sizing: border-box;\n",
       "  padding-bottom: 0.4em;\n",
       "  background-color: var(--sklearn-color-background);\n",
       "}\n",
       "\n",
       "#sk-container-id-6 div.sk-container {\n",
       "  /* jupyter's `normalize.less` sets `[hidden] { display: none; }`\n",
       "     but bootstrap.min.css set `[hidden] { display: none !important; }`\n",
       "     so we also need the `!important` here to be able to override the\n",
       "     default hidden behavior on the sphinx rendered scikit-learn.org.\n",
       "     See: https://github.com/scikit-learn/scikit-learn/issues/21755 */\n",
       "  display: inline-block !important;\n",
       "  position: relative;\n",
       "}\n",
       "\n",
       "#sk-container-id-6 div.sk-text-repr-fallback {\n",
       "  display: none;\n",
       "}\n",
       "\n",
       "div.sk-parallel-item,\n",
       "div.sk-serial,\n",
       "div.sk-item {\n",
       "  /* draw centered vertical line to link estimators */\n",
       "  background-image: linear-gradient(var(--sklearn-color-text-on-default-background), var(--sklearn-color-text-on-default-background));\n",
       "  background-size: 2px 100%;\n",
       "  background-repeat: no-repeat;\n",
       "  background-position: center center;\n",
       "}\n",
       "\n",
       "/* Parallel-specific style estimator block */\n",
       "\n",
       "#sk-container-id-6 div.sk-parallel-item::after {\n",
       "  content: \"\";\n",
       "  width: 100%;\n",
       "  border-bottom: 2px solid var(--sklearn-color-text-on-default-background);\n",
       "  flex-grow: 1;\n",
       "}\n",
       "\n",
       "#sk-container-id-6 div.sk-parallel {\n",
       "  display: flex;\n",
       "  align-items: stretch;\n",
       "  justify-content: center;\n",
       "  background-color: var(--sklearn-color-background);\n",
       "  position: relative;\n",
       "}\n",
       "\n",
       "#sk-container-id-6 div.sk-parallel-item {\n",
       "  display: flex;\n",
       "  flex-direction: column;\n",
       "}\n",
       "\n",
       "#sk-container-id-6 div.sk-parallel-item:first-child::after {\n",
       "  align-self: flex-end;\n",
       "  width: 50%;\n",
       "}\n",
       "\n",
       "#sk-container-id-6 div.sk-parallel-item:last-child::after {\n",
       "  align-self: flex-start;\n",
       "  width: 50%;\n",
       "}\n",
       "\n",
       "#sk-container-id-6 div.sk-parallel-item:only-child::after {\n",
       "  width: 0;\n",
       "}\n",
       "\n",
       "/* Serial-specific style estimator block */\n",
       "\n",
       "#sk-container-id-6 div.sk-serial {\n",
       "  display: flex;\n",
       "  flex-direction: column;\n",
       "  align-items: center;\n",
       "  background-color: var(--sklearn-color-background);\n",
       "  padding-right: 1em;\n",
       "  padding-left: 1em;\n",
       "}\n",
       "\n",
       "\n",
       "/* Toggleable style: style used for estimator/Pipeline/ColumnTransformer box that is\n",
       "clickable and can be expanded/collapsed.\n",
       "- Pipeline and ColumnTransformer use this feature and define the default style\n",
       "- Estimators will overwrite some part of the style using the `sk-estimator` class\n",
       "*/\n",
       "\n",
       "/* Pipeline and ColumnTransformer style (default) */\n",
       "\n",
       "#sk-container-id-6 div.sk-toggleable {\n",
       "  /* Default theme specific background. It is overwritten whether we have a\n",
       "  specific estimator or a Pipeline/ColumnTransformer */\n",
       "  background-color: var(--sklearn-color-background);\n",
       "}\n",
       "\n",
       "/* Toggleable label */\n",
       "#sk-container-id-6 label.sk-toggleable__label {\n",
       "  cursor: pointer;\n",
       "  display: flex;\n",
       "  width: 100%;\n",
       "  margin-bottom: 0;\n",
       "  padding: 0.5em;\n",
       "  box-sizing: border-box;\n",
       "  text-align: center;\n",
       "  align-items: start;\n",
       "  justify-content: space-between;\n",
       "  gap: 0.5em;\n",
       "}\n",
       "\n",
       "#sk-container-id-6 label.sk-toggleable__label .caption {\n",
       "  font-size: 0.6rem;\n",
       "  font-weight: lighter;\n",
       "  color: var(--sklearn-color-text-muted);\n",
       "}\n",
       "\n",
       "#sk-container-id-6 label.sk-toggleable__label-arrow:before {\n",
       "  /* Arrow on the left of the label */\n",
       "  content: \"▸\";\n",
       "  float: left;\n",
       "  margin-right: 0.25em;\n",
       "  color: var(--sklearn-color-icon);\n",
       "}\n",
       "\n",
       "#sk-container-id-6 label.sk-toggleable__label-arrow:hover:before {\n",
       "  color: var(--sklearn-color-text);\n",
       "}\n",
       "\n",
       "/* Toggleable content - dropdown */\n",
       "\n",
       "#sk-container-id-6 div.sk-toggleable__content {\n",
       "  display: none;\n",
       "  text-align: left;\n",
       "  /* unfitted */\n",
       "  background-color: var(--sklearn-color-unfitted-level-0);\n",
       "}\n",
       "\n",
       "#sk-container-id-6 div.sk-toggleable__content.fitted {\n",
       "  /* fitted */\n",
       "  background-color: var(--sklearn-color-fitted-level-0);\n",
       "}\n",
       "\n",
       "#sk-container-id-6 div.sk-toggleable__content pre {\n",
       "  margin: 0.2em;\n",
       "  border-radius: 0.25em;\n",
       "  color: var(--sklearn-color-text);\n",
       "  /* unfitted */\n",
       "  background-color: var(--sklearn-color-unfitted-level-0);\n",
       "}\n",
       "\n",
       "#sk-container-id-6 div.sk-toggleable__content.fitted pre {\n",
       "  /* unfitted */\n",
       "  background-color: var(--sklearn-color-fitted-level-0);\n",
       "}\n",
       "\n",
       "#sk-container-id-6 input.sk-toggleable__control:checked~div.sk-toggleable__content {\n",
       "  /* Expand drop-down */\n",
       "  display: block;\n",
       "  width: 100%;\n",
       "  overflow: visible;\n",
       "}\n",
       "\n",
       "#sk-container-id-6 input.sk-toggleable__control:checked~label.sk-toggleable__label-arrow:before {\n",
       "  content: \"▾\";\n",
       "}\n",
       "\n",
       "/* Pipeline/ColumnTransformer-specific style */\n",
       "\n",
       "#sk-container-id-6 div.sk-label input.sk-toggleable__control:checked~label.sk-toggleable__label {\n",
       "  color: var(--sklearn-color-text);\n",
       "  background-color: var(--sklearn-color-unfitted-level-2);\n",
       "}\n",
       "\n",
       "#sk-container-id-6 div.sk-label.fitted input.sk-toggleable__control:checked~label.sk-toggleable__label {\n",
       "  background-color: var(--sklearn-color-fitted-level-2);\n",
       "}\n",
       "\n",
       "/* Estimator-specific style */\n",
       "\n",
       "/* Colorize estimator box */\n",
       "#sk-container-id-6 div.sk-estimator input.sk-toggleable__control:checked~label.sk-toggleable__label {\n",
       "  /* unfitted */\n",
       "  background-color: var(--sklearn-color-unfitted-level-2);\n",
       "}\n",
       "\n",
       "#sk-container-id-6 div.sk-estimator.fitted input.sk-toggleable__control:checked~label.sk-toggleable__label {\n",
       "  /* fitted */\n",
       "  background-color: var(--sklearn-color-fitted-level-2);\n",
       "}\n",
       "\n",
       "#sk-container-id-6 div.sk-label label.sk-toggleable__label,\n",
       "#sk-container-id-6 div.sk-label label {\n",
       "  /* The background is the default theme color */\n",
       "  color: var(--sklearn-color-text-on-default-background);\n",
       "}\n",
       "\n",
       "/* On hover, darken the color of the background */\n",
       "#sk-container-id-6 div.sk-label:hover label.sk-toggleable__label {\n",
       "  color: var(--sklearn-color-text);\n",
       "  background-color: var(--sklearn-color-unfitted-level-2);\n",
       "}\n",
       "\n",
       "/* Label box, darken color on hover, fitted */\n",
       "#sk-container-id-6 div.sk-label.fitted:hover label.sk-toggleable__label.fitted {\n",
       "  color: var(--sklearn-color-text);\n",
       "  background-color: var(--sklearn-color-fitted-level-2);\n",
       "}\n",
       "\n",
       "/* Estimator label */\n",
       "\n",
       "#sk-container-id-6 div.sk-label label {\n",
       "  font-family: monospace;\n",
       "  font-weight: bold;\n",
       "  display: inline-block;\n",
       "  line-height: 1.2em;\n",
       "}\n",
       "\n",
       "#sk-container-id-6 div.sk-label-container {\n",
       "  text-align: center;\n",
       "}\n",
       "\n",
       "/* Estimator-specific */\n",
       "#sk-container-id-6 div.sk-estimator {\n",
       "  font-family: monospace;\n",
       "  border: 1px dotted var(--sklearn-color-border-box);\n",
       "  border-radius: 0.25em;\n",
       "  box-sizing: border-box;\n",
       "  margin-bottom: 0.5em;\n",
       "  /* unfitted */\n",
       "  background-color: var(--sklearn-color-unfitted-level-0);\n",
       "}\n",
       "\n",
       "#sk-container-id-6 div.sk-estimator.fitted {\n",
       "  /* fitted */\n",
       "  background-color: var(--sklearn-color-fitted-level-0);\n",
       "}\n",
       "\n",
       "/* on hover */\n",
       "#sk-container-id-6 div.sk-estimator:hover {\n",
       "  /* unfitted */\n",
       "  background-color: var(--sklearn-color-unfitted-level-2);\n",
       "}\n",
       "\n",
       "#sk-container-id-6 div.sk-estimator.fitted:hover {\n",
       "  /* fitted */\n",
       "  background-color: var(--sklearn-color-fitted-level-2);\n",
       "}\n",
       "\n",
       "/* Specification for estimator info (e.g. \"i\" and \"?\") */\n",
       "\n",
       "/* Common style for \"i\" and \"?\" */\n",
       "\n",
       ".sk-estimator-doc-link,\n",
       "a:link.sk-estimator-doc-link,\n",
       "a:visited.sk-estimator-doc-link {\n",
       "  float: right;\n",
       "  font-size: smaller;\n",
       "  line-height: 1em;\n",
       "  font-family: monospace;\n",
       "  background-color: var(--sklearn-color-background);\n",
       "  border-radius: 1em;\n",
       "  height: 1em;\n",
       "  width: 1em;\n",
       "  text-decoration: none !important;\n",
       "  margin-left: 0.5em;\n",
       "  text-align: center;\n",
       "  /* unfitted */\n",
       "  border: var(--sklearn-color-unfitted-level-1) 1pt solid;\n",
       "  color: var(--sklearn-color-unfitted-level-1);\n",
       "}\n",
       "\n",
       ".sk-estimator-doc-link.fitted,\n",
       "a:link.sk-estimator-doc-link.fitted,\n",
       "a:visited.sk-estimator-doc-link.fitted {\n",
       "  /* fitted */\n",
       "  border: var(--sklearn-color-fitted-level-1) 1pt solid;\n",
       "  color: var(--sklearn-color-fitted-level-1);\n",
       "}\n",
       "\n",
       "/* On hover */\n",
       "div.sk-estimator:hover .sk-estimator-doc-link:hover,\n",
       ".sk-estimator-doc-link:hover,\n",
       "div.sk-label-container:hover .sk-estimator-doc-link:hover,\n",
       ".sk-estimator-doc-link:hover {\n",
       "  /* unfitted */\n",
       "  background-color: var(--sklearn-color-unfitted-level-3);\n",
       "  color: var(--sklearn-color-background);\n",
       "  text-decoration: none;\n",
       "}\n",
       "\n",
       "div.sk-estimator.fitted:hover .sk-estimator-doc-link.fitted:hover,\n",
       ".sk-estimator-doc-link.fitted:hover,\n",
       "div.sk-label-container:hover .sk-estimator-doc-link.fitted:hover,\n",
       ".sk-estimator-doc-link.fitted:hover {\n",
       "  /* fitted */\n",
       "  background-color: var(--sklearn-color-fitted-level-3);\n",
       "  color: var(--sklearn-color-background);\n",
       "  text-decoration: none;\n",
       "}\n",
       "\n",
       "/* Span, style for the box shown on hovering the info icon */\n",
       ".sk-estimator-doc-link span {\n",
       "  display: none;\n",
       "  z-index: 9999;\n",
       "  position: relative;\n",
       "  font-weight: normal;\n",
       "  right: .2ex;\n",
       "  padding: .5ex;\n",
       "  margin: .5ex;\n",
       "  width: min-content;\n",
       "  min-width: 20ex;\n",
       "  max-width: 50ex;\n",
       "  color: var(--sklearn-color-text);\n",
       "  box-shadow: 2pt 2pt 4pt #999;\n",
       "  /* unfitted */\n",
       "  background: var(--sklearn-color-unfitted-level-0);\n",
       "  border: .5pt solid var(--sklearn-color-unfitted-level-3);\n",
       "}\n",
       "\n",
       ".sk-estimator-doc-link.fitted span {\n",
       "  /* fitted */\n",
       "  background: var(--sklearn-color-fitted-level-0);\n",
       "  border: var(--sklearn-color-fitted-level-3);\n",
       "}\n",
       "\n",
       ".sk-estimator-doc-link:hover span {\n",
       "  display: block;\n",
       "}\n",
       "\n",
       "/* \"?\"-specific style due to the `<a>` HTML tag */\n",
       "\n",
       "#sk-container-id-6 a.estimator_doc_link {\n",
       "  float: right;\n",
       "  font-size: 1rem;\n",
       "  line-height: 1em;\n",
       "  font-family: monospace;\n",
       "  background-color: var(--sklearn-color-background);\n",
       "  border-radius: 1rem;\n",
       "  height: 1rem;\n",
       "  width: 1rem;\n",
       "  text-decoration: none;\n",
       "  /* unfitted */\n",
       "  color: var(--sklearn-color-unfitted-level-1);\n",
       "  border: var(--sklearn-color-unfitted-level-1) 1pt solid;\n",
       "}\n",
       "\n",
       "#sk-container-id-6 a.estimator_doc_link.fitted {\n",
       "  /* fitted */\n",
       "  border: var(--sklearn-color-fitted-level-1) 1pt solid;\n",
       "  color: var(--sklearn-color-fitted-level-1);\n",
       "}\n",
       "\n",
       "/* On hover */\n",
       "#sk-container-id-6 a.estimator_doc_link:hover {\n",
       "  /* unfitted */\n",
       "  background-color: var(--sklearn-color-unfitted-level-3);\n",
       "  color: var(--sklearn-color-background);\n",
       "  text-decoration: none;\n",
       "}\n",
       "\n",
       "#sk-container-id-6 a.estimator_doc_link.fitted:hover {\n",
       "  /* fitted */\n",
       "  background-color: var(--sklearn-color-fitted-level-3);\n",
       "}\n",
       "\n",
       ".estimator-table summary {\n",
       "    padding: .5rem;\n",
       "    font-family: monospace;\n",
       "    cursor: pointer;\n",
       "}\n",
       "\n",
       ".estimator-table details[open] {\n",
       "    padding-left: 0.1rem;\n",
       "    padding-right: 0.1rem;\n",
       "    padding-bottom: 0.3rem;\n",
       "}\n",
       "\n",
       ".estimator-table .parameters-table {\n",
       "    margin-left: auto !important;\n",
       "    margin-right: auto !important;\n",
       "}\n",
       "\n",
       ".estimator-table .parameters-table tr:nth-child(odd) {\n",
       "    background-color: #fff;\n",
       "}\n",
       "\n",
       ".estimator-table .parameters-table tr:nth-child(even) {\n",
       "    background-color: #f6f6f6;\n",
       "}\n",
       "\n",
       ".estimator-table .parameters-table tr:hover {\n",
       "    background-color: #e0e0e0;\n",
       "}\n",
       "\n",
       ".estimator-table table td {\n",
       "    border: 1px solid rgba(106, 105, 104, 0.232);\n",
       "}\n",
       "\n",
       ".user-set td {\n",
       "    color:rgb(255, 94, 0);\n",
       "    text-align: left;\n",
       "}\n",
       "\n",
       ".user-set td.value pre {\n",
       "    color:rgb(255, 94, 0) !important;\n",
       "    background-color: transparent !important;\n",
       "}\n",
       "\n",
       ".default td {\n",
       "    color: black;\n",
       "    text-align: left;\n",
       "}\n",
       "\n",
       ".user-set td i,\n",
       ".default td i {\n",
       "    color: black;\n",
       "}\n",
       "\n",
       ".copy-paste-icon {\n",
       "    background-image: url(data:image/svg+xml;base64,PHN2ZyB4bWxucz0iaHR0cDovL3d3dy53My5vcmcvMjAwMC9zdmciIHZpZXdCb3g9IjAgMCA0NDggNTEyIj48IS0tIUZvbnQgQXdlc29tZSBGcmVlIDYuNy4yIGJ5IEBmb250YXdlc29tZSAtIGh0dHBzOi8vZm9udGF3ZXNvbWUuY29tIExpY2Vuc2UgLSBodHRwczovL2ZvbnRhd2Vzb21lLmNvbS9saWNlbnNlL2ZyZWUgQ29weXJpZ2h0IDIwMjUgRm9udGljb25zLCBJbmMuLS0+PHBhdGggZD0iTTIwOCAwTDMzMi4xIDBjMTIuNyAwIDI0LjkgNS4xIDMzLjkgMTQuMWw2Ny45IDY3LjljOSA5IDE0LjEgMjEuMiAxNC4xIDMzLjlMNDQ4IDMzNmMwIDI2LjUtMjEuNSA0OC00OCA0OGwtMTkyIDBjLTI2LjUgMC00OC0yMS41LTQ4LTQ4bDAtMjg4YzAtMjYuNSAyMS41LTQ4IDQ4LTQ4ek00OCAxMjhsODAgMCAwIDY0LTY0IDAgMCAyNTYgMTkyIDAgMC0zMiA2NCAwIDAgNDhjMCAyNi41LTIxLjUgNDgtNDggNDhMNDggNTEyYy0yNi41IDAtNDgtMjEuNS00OC00OEwwIDE3NmMwLTI2LjUgMjEuNS00OCA0OC00OHoiLz48L3N2Zz4=);\n",
       "    background-repeat: no-repeat;\n",
       "    background-size: 14px 14px;\n",
       "    background-position: 0;\n",
       "    display: inline-block;\n",
       "    width: 14px;\n",
       "    height: 14px;\n",
       "    cursor: pointer;\n",
       "}\n",
       "</style><body><div id=\"sk-container-id-6\" class=\"sk-top-container\"><div class=\"sk-text-repr-fallback\"><pre>LinearRegression()</pre><b>In a Jupyter environment, please rerun this cell to show the HTML representation or trust the notebook. <br />On GitHub, the HTML representation is unable to render, please try loading this page with nbviewer.org.</b></div><div class=\"sk-container\" hidden><div class=\"sk-item\"><div class=\"sk-estimator fitted sk-toggleable\"><input class=\"sk-toggleable__control sk-hidden--visually\" id=\"sk-estimator-id-6\" type=\"checkbox\" checked><label for=\"sk-estimator-id-6\" class=\"sk-toggleable__label fitted sk-toggleable__label-arrow\"><div><div>LinearRegression</div></div><div><a class=\"sk-estimator-doc-link fitted\" rel=\"noreferrer\" target=\"_blank\" href=\"https://scikit-learn.org/1.7/modules/generated/sklearn.linear_model.LinearRegression.html\">?<span>Documentation for LinearRegression</span></a><span class=\"sk-estimator-doc-link fitted\">i<span>Fitted</span></span></div></label><div class=\"sk-toggleable__content fitted\" data-param-prefix=\"\">\n",
       "        <div class=\"estimator-table\">\n",
       "            <details>\n",
       "                <summary>Parameters</summary>\n",
       "                <table class=\"parameters-table\">\n",
       "                  <tbody>\n",
       "                    \n",
       "        <tr class=\"default\">\n",
       "            <td><i class=\"copy-paste-icon\"\n",
       "                 onclick=\"copyToClipboard('fit_intercept',\n",
       "                          this.parentElement.nextElementSibling)\"\n",
       "            ></i></td>\n",
       "            <td class=\"param\">fit_intercept&nbsp;</td>\n",
       "            <td class=\"value\">True</td>\n",
       "        </tr>\n",
       "    \n",
       "\n",
       "        <tr class=\"default\">\n",
       "            <td><i class=\"copy-paste-icon\"\n",
       "                 onclick=\"copyToClipboard('copy_X',\n",
       "                          this.parentElement.nextElementSibling)\"\n",
       "            ></i></td>\n",
       "            <td class=\"param\">copy_X&nbsp;</td>\n",
       "            <td class=\"value\">True</td>\n",
       "        </tr>\n",
       "    \n",
       "\n",
       "        <tr class=\"default\">\n",
       "            <td><i class=\"copy-paste-icon\"\n",
       "                 onclick=\"copyToClipboard('tol',\n",
       "                          this.parentElement.nextElementSibling)\"\n",
       "            ></i></td>\n",
       "            <td class=\"param\">tol&nbsp;</td>\n",
       "            <td class=\"value\">1e-06</td>\n",
       "        </tr>\n",
       "    \n",
       "\n",
       "        <tr class=\"default\">\n",
       "            <td><i class=\"copy-paste-icon\"\n",
       "                 onclick=\"copyToClipboard('n_jobs',\n",
       "                          this.parentElement.nextElementSibling)\"\n",
       "            ></i></td>\n",
       "            <td class=\"param\">n_jobs&nbsp;</td>\n",
       "            <td class=\"value\">None</td>\n",
       "        </tr>\n",
       "    \n",
       "\n",
       "        <tr class=\"default\">\n",
       "            <td><i class=\"copy-paste-icon\"\n",
       "                 onclick=\"copyToClipboard('positive',\n",
       "                          this.parentElement.nextElementSibling)\"\n",
       "            ></i></td>\n",
       "            <td class=\"param\">positive&nbsp;</td>\n",
       "            <td class=\"value\">False</td>\n",
       "        </tr>\n",
       "    \n",
       "                  </tbody>\n",
       "                </table>\n",
       "            </details>\n",
       "        </div>\n",
       "    </div></div></div></div></div><script>function copyToClipboard(text, element) {\n",
       "    // Get the parameter prefix from the closest toggleable content\n",
       "    const toggleableContent = element.closest('.sk-toggleable__content');\n",
       "    const paramPrefix = toggleableContent ? toggleableContent.dataset.paramPrefix : '';\n",
       "    const fullParamName = paramPrefix ? `${paramPrefix}${text}` : text;\n",
       "\n",
       "    const originalStyle = element.style;\n",
       "    const computedStyle = window.getComputedStyle(element);\n",
       "    const originalWidth = computedStyle.width;\n",
       "    const originalHTML = element.innerHTML.replace('Copied!', '');\n",
       "\n",
       "    navigator.clipboard.writeText(fullParamName)\n",
       "        .then(() => {\n",
       "            element.style.width = originalWidth;\n",
       "            element.style.color = 'green';\n",
       "            element.innerHTML = \"Copied!\";\n",
       "\n",
       "            setTimeout(() => {\n",
       "                element.innerHTML = originalHTML;\n",
       "                element.style = originalStyle;\n",
       "            }, 2000);\n",
       "        })\n",
       "        .catch(err => {\n",
       "            console.error('Failed to copy:', err);\n",
       "            element.style.color = 'red';\n",
       "            element.innerHTML = \"Failed!\";\n",
       "            setTimeout(() => {\n",
       "                element.innerHTML = originalHTML;\n",
       "                element.style = originalStyle;\n",
       "            }, 2000);\n",
       "        });\n",
       "    return false;\n",
       "}\n",
       "\n",
       "document.querySelectorAll('.fa-regular.fa-copy').forEach(function(element) {\n",
       "    const toggleableContent = element.closest('.sk-toggleable__content');\n",
       "    const paramPrefix = toggleableContent ? toggleableContent.dataset.paramPrefix : '';\n",
       "    const paramName = element.parentElement.nextElementSibling.textContent.trim();\n",
       "    const fullParamName = paramPrefix ? `${paramPrefix}${paramName}` : paramName;\n",
       "\n",
       "    element.setAttribute('title', fullParamName);\n",
       "});\n",
       "</script></body>"
      ],
      "text/plain": [
       "LinearRegression()"
      ]
     },
     "execution_count": 51,
     "metadata": {},
     "output_type": "execute_result"
    }
   ],
   "source": [
    "model1 = SimpleRegression()\n",
    "model1.fit(x, y)\n",
    "model2 = LinearRegression()\n",
    "model2.fit(x.reshape(-1, 1), y)"
   ]
  },
  {
   "cell_type": "code",
   "execution_count": 52,
   "id": "50bedaf1",
   "metadata": {},
   "outputs": [
    {
     "name": "stdout",
     "output_type": "stream",
     "text": [
      "301.9983641694407, -4420.380780505206\n"
     ]
    }
   ],
   "source": [
    "model1.print_value()"
   ]
  },
  {
   "cell_type": "code",
   "execution_count": 29,
   "id": "583e98e3",
   "metadata": {},
   "outputs": [
    {
     "data": {
      "text/plain": [
       "(array([301.99836417]), np.float64(-4420.380780505207))"
      ]
     },
     "execution_count": 29,
     "metadata": {},
     "output_type": "execute_result"
    }
   ],
   "source": [
    "model2.coef_, model2.intercept_"
   ]
  },
  {
   "cell_type": "markdown",
   "id": "e7fbbc40",
   "metadata": {},
   "source": [
    "### **4. Model visualization using graphics:**"
   ]
  },
  {
   "cell_type": "code",
   "execution_count": 14,
   "id": "d5928d94",
   "metadata": {},
   "outputs": [
    {
     "data": {
      "application/vnd.plotly.v1+json": {
       "config": {
        "plotlyServerURL": "https://plot.ly"
       },
       "data": [
        {
         "marker": {
          "color": "blue"
         },
         "mode": "markers",
         "name": "Dataset",
         "type": "scatter",
         "x": {
          "bdata": "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",
          "dtype": "i4"
         },
         "y": {
          "bdata": "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",
          "dtype": "i2"
         }
        },
        {
         "line": {
          "color": "red",
          "width": 3
         },
         "mode": "lines",
         "name": "Model",
         "type": "scatter",
         "x": {
          "bdata": "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",
          "dtype": "i4"
         },
         "y": {
          "bdata": "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",
          "dtype": "f8"
         }
        }
       ],
       "layout": {
        "showlegend": true,
        "template": {
         "data": {
          "bar": [
           {
            "error_x": {
             "color": "#f2f5fa"
            },
            "error_y": {
             "color": "#f2f5fa"
            },
            "marker": {
             "line": {
              "color": "rgb(17,17,17)",
              "width": 0.5
             },
             "pattern": {
              "fillmode": "overlay",
              "size": 10,
              "solidity": 0.2
             }
            },
            "type": "bar"
           }
          ],
          "barpolar": [
           {
            "marker": {
             "line": {
              "color": "rgb(17,17,17)",
              "width": 0.5
             },
             "pattern": {
              "fillmode": "overlay",
              "size": 10,
              "solidity": 0.2
             }
            },
            "type": "barpolar"
           }
          ],
          "carpet": [
           {
            "aaxis": {
             "endlinecolor": "#A2B1C6",
             "gridcolor": "#506784",
             "linecolor": "#506784",
             "minorgridcolor": "#506784",
             "startlinecolor": "#A2B1C6"
            },
            "baxis": {
             "endlinecolor": "#A2B1C6",
             "gridcolor": "#506784",
             "linecolor": "#506784",
             "minorgridcolor": "#506784",
             "startlinecolor": "#A2B1C6"
            },
            "type": "carpet"
           }
          ],
          "choropleth": [
           {
            "colorbar": {
             "outlinewidth": 0,
             "ticks": ""
            },
            "type": "choropleth"
           }
          ],
          "contour": [
           {
            "colorbar": {
             "outlinewidth": 0,
             "ticks": ""
            },
            "colorscale": [
             [
              0,
              "#0d0887"
             ],
             [
              0.1111111111111111,
              "#46039f"
             ],
             [
              0.2222222222222222,
              "#7201a8"
             ],
             [
              0.3333333333333333,
              "#9c179e"
             ],
             [
              0.4444444444444444,
              "#bd3786"
             ],
             [
              0.5555555555555556,
              "#d8576b"
             ],
             [
              0.6666666666666666,
              "#ed7953"
             ],
             [
              0.7777777777777778,
              "#fb9f3a"
             ],
             [
              0.8888888888888888,
              "#fdca26"
             ],
             [
              1,
              "#f0f921"
             ]
            ],
            "type": "contour"
           }
          ],
          "contourcarpet": [
           {
            "colorbar": {
             "outlinewidth": 0,
             "ticks": ""
            },
            "type": "contourcarpet"
           }
          ],
          "heatmap": [
           {
            "colorbar": {
             "outlinewidth": 0,
             "ticks": ""
            },
            "colorscale": [
             [
              0,
              "#0d0887"
             ],
             [
              0.1111111111111111,
              "#46039f"
             ],
             [
              0.2222222222222222,
              "#7201a8"
             ],
             [
              0.3333333333333333,
              "#9c179e"
             ],
             [
              0.4444444444444444,
              "#bd3786"
             ],
             [
              0.5555555555555556,
              "#d8576b"
             ],
             [
              0.6666666666666666,
              "#ed7953"
             ],
             [
              0.7777777777777778,
              "#fb9f3a"
             ],
             [
              0.8888888888888888,
              "#fdca26"
             ],
             [
              1,
              "#f0f921"
             ]
            ],
            "type": "heatmap"
           }
          ],
          "histogram": [
           {
            "marker": {
             "pattern": {
              "fillmode": "overlay",
              "size": 10,
              "solidity": 0.2
             }
            },
            "type": "histogram"
           }
          ],
          "histogram2d": [
           {
            "colorbar": {
             "outlinewidth": 0,
             "ticks": ""
            },
            "colorscale": [
             [
              0,
              "#0d0887"
             ],
             [
              0.1111111111111111,
              "#46039f"
             ],
             [
              0.2222222222222222,
              "#7201a8"
             ],
             [
              0.3333333333333333,
              "#9c179e"
             ],
             [
              0.4444444444444444,
              "#bd3786"
             ],
             [
              0.5555555555555556,
              "#d8576b"
             ],
             [
              0.6666666666666666,
              "#ed7953"
             ],
             [
              0.7777777777777778,
              "#fb9f3a"
             ],
             [
              0.8888888888888888,
              "#fdca26"
             ],
             [
              1,
              "#f0f921"
             ]
            ],
            "type": "histogram2d"
           }
          ],
          "histogram2dcontour": [
           {
            "colorbar": {
             "outlinewidth": 0,
             "ticks": ""
            },
            "colorscale": [
             [
              0,
              "#0d0887"
             ],
             [
              0.1111111111111111,
              "#46039f"
             ],
             [
              0.2222222222222222,
              "#7201a8"
             ],
             [
              0.3333333333333333,
              "#9c179e"
             ],
             [
              0.4444444444444444,
              "#bd3786"
             ],
             [
              0.5555555555555556,
              "#d8576b"
             ],
             [
              0.6666666666666666,
              "#ed7953"
             ],
             [
              0.7777777777777778,
              "#fb9f3a"
             ],
             [
              0.8888888888888888,
              "#fdca26"
             ],
             [
              1,
              "#f0f921"
             ]
            ],
            "type": "histogram2dcontour"
           }
          ],
          "mesh3d": [
           {
            "colorbar": {
             "outlinewidth": 0,
             "ticks": ""
            },
            "type": "mesh3d"
           }
          ],
          "parcoords": [
           {
            "line": {
             "colorbar": {
              "outlinewidth": 0,
              "ticks": ""
             }
            },
            "type": "parcoords"
           }
          ],
          "pie": [
           {
            "automargin": true,
            "type": "pie"
           }
          ],
          "scatter": [
           {
            "marker": {
             "line": {
              "color": "#283442"
             }
            },
            "type": "scatter"
           }
          ],
          "scatter3d": [
           {
            "line": {
             "colorbar": {
              "outlinewidth": 0,
              "ticks": ""
             }
            },
            "marker": {
             "colorbar": {
              "outlinewidth": 0,
              "ticks": ""
             }
            },
            "type": "scatter3d"
           }
          ],
          "scattercarpet": [
           {
            "marker": {
             "colorbar": {
              "outlinewidth": 0,
              "ticks": ""
             }
            },
            "type": "scattercarpet"
           }
          ],
          "scattergeo": [
           {
            "marker": {
             "colorbar": {
              "outlinewidth": 0,
              "ticks": ""
             }
            },
            "type": "scattergeo"
           }
          ],
          "scattergl": [
           {
            "marker": {
             "line": {
              "color": "#283442"
             }
            },
            "type": "scattergl"
           }
          ],
          "scattermap": [
           {
            "marker": {
             "colorbar": {
              "outlinewidth": 0,
              "ticks": ""
             }
            },
            "type": "scattermap"
           }
          ],
          "scattermapbox": [
           {
            "marker": {
             "colorbar": {
              "outlinewidth": 0,
              "ticks": ""
             }
            },
            "type": "scattermapbox"
           }
          ],
          "scatterpolar": [
           {
            "marker": {
             "colorbar": {
              "outlinewidth": 0,
              "ticks": ""
             }
            },
            "type": "scatterpolar"
           }
          ],
          "scatterpolargl": [
           {
            "marker": {
             "colorbar": {
              "outlinewidth": 0,
              "ticks": ""
             }
            },
            "type": "scatterpolargl"
           }
          ],
          "scatterternary": [
           {
            "marker": {
             "colorbar": {
              "outlinewidth": 0,
              "ticks": ""
             }
            },
            "type": "scatterternary"
           }
          ],
          "surface": [
           {
            "colorbar": {
             "outlinewidth": 0,
             "ticks": ""
            },
            "colorscale": [
             [
              0,
              "#0d0887"
             ],
             [
              0.1111111111111111,
              "#46039f"
             ],
             [
              0.2222222222222222,
              "#7201a8"
             ],
             [
              0.3333333333333333,
              "#9c179e"
             ],
             [
              0.4444444444444444,
              "#bd3786"
             ],
             [
              0.5555555555555556,
              "#d8576b"
             ],
             [
              0.6666666666666666,
              "#ed7953"
             ],
             [
              0.7777777777777778,
              "#fb9f3a"
             ],
             [
              0.8888888888888888,
              "#fdca26"
             ],
             [
              1,
              "#f0f921"
             ]
            ],
            "type": "surface"
           }
          ],
          "table": [
           {
            "cells": {
             "fill": {
              "color": "#506784"
             },
             "line": {
              "color": "rgb(17,17,17)"
             }
            },
            "header": {
             "fill": {
              "color": "#2a3f5f"
             },
             "line": {
              "color": "rgb(17,17,17)"
             }
            },
            "type": "table"
           }
          ]
         },
         "layout": {
          "annotationdefaults": {
           "arrowcolor": "#f2f5fa",
           "arrowhead": 0,
           "arrowwidth": 1
          },
          "autotypenumbers": "strict",
          "coloraxis": {
           "colorbar": {
            "outlinewidth": 0,
            "ticks": ""
           }
          },
          "colorscale": {
           "diverging": [
            [
             0,
             "#8e0152"
            ],
            [
             0.1,
             "#c51b7d"
            ],
            [
             0.2,
             "#de77ae"
            ],
            [
             0.3,
             "#f1b6da"
            ],
            [
             0.4,
             "#fde0ef"
            ],
            [
             0.5,
             "#f7f7f7"
            ],
            [
             0.6,
             "#e6f5d0"
            ],
            [
             0.7,
             "#b8e186"
            ],
            [
             0.8,
             "#7fbc41"
            ],
            [
             0.9,
             "#4d9221"
            ],
            [
             1,
             "#276419"
            ]
           ],
           "sequential": [
            [
             0,
             "#0d0887"
            ],
            [
             0.1111111111111111,
             "#46039f"
            ],
            [
             0.2222222222222222,
             "#7201a8"
            ],
            [
             0.3333333333333333,
             "#9c179e"
            ],
            [
             0.4444444444444444,
             "#bd3786"
            ],
            [
             0.5555555555555556,
             "#d8576b"
            ],
            [
             0.6666666666666666,
             "#ed7953"
            ],
            [
             0.7777777777777778,
             "#fb9f3a"
            ],
            [
             0.8888888888888888,
             "#fdca26"
            ],
            [
             1,
             "#f0f921"
            ]
           ],
           "sequentialminus": [
            [
             0,
             "#0d0887"
            ],
            [
             0.1111111111111111,
             "#46039f"
            ],
            [
             0.2222222222222222,
             "#7201a8"
            ],
            [
             0.3333333333333333,
             "#9c179e"
            ],
            [
             0.4444444444444444,
             "#bd3786"
            ],
            [
             0.5555555555555556,
             "#d8576b"
            ],
            [
             0.6666666666666666,
             "#ed7953"
            ],
            [
             0.7777777777777778,
             "#fb9f3a"
            ],
            [
             0.8888888888888888,
             "#fdca26"
            ],
            [
             1,
             "#f0f921"
            ]
           ]
          },
          "colorway": [
           "#636efa",
           "#EF553B",
           "#00cc96",
           "#ab63fa",
           "#FFA15A",
           "#19d3f3",
           "#FF6692",
           "#B6E880",
           "#FF97FF",
           "#FECB52"
          ],
          "font": {
           "color": "#f2f5fa"
          },
          "geo": {
           "bgcolor": "rgb(17,17,17)",
           "lakecolor": "rgb(17,17,17)",
           "landcolor": "rgb(17,17,17)",
           "showlakes": true,
           "showland": true,
           "subunitcolor": "#506784"
          },
          "hoverlabel": {
           "align": "left"
          },
          "hovermode": "closest",
          "mapbox": {
           "style": "dark"
          },
          "paper_bgcolor": "rgb(17,17,17)",
          "plot_bgcolor": "rgb(17,17,17)",
          "polar": {
           "angularaxis": {
            "gridcolor": "#506784",
            "linecolor": "#506784",
            "ticks": ""
           },
           "bgcolor": "rgb(17,17,17)",
           "radialaxis": {
            "gridcolor": "#506784",
            "linecolor": "#506784",
            "ticks": ""
           }
          },
          "scene": {
           "xaxis": {
            "backgroundcolor": "rgb(17,17,17)",
            "gridcolor": "#506784",
            "gridwidth": 2,
            "linecolor": "#506784",
            "showbackground": true,
            "ticks": "",
            "zerolinecolor": "#C8D4E3"
           },
           "yaxis": {
            "backgroundcolor": "rgb(17,17,17)",
            "gridcolor": "#506784",
            "gridwidth": 2,
            "linecolor": "#506784",
            "showbackground": true,
            "ticks": "",
            "zerolinecolor": "#C8D4E3"
           },
           "zaxis": {
            "backgroundcolor": "rgb(17,17,17)",
            "gridcolor": "#506784",
            "gridwidth": 2,
            "linecolor": "#506784",
            "showbackground": true,
            "ticks": "",
            "zerolinecolor": "#C8D4E3"
           }
          },
          "shapedefaults": {
           "line": {
            "color": "#f2f5fa"
           }
          },
          "sliderdefaults": {
           "bgcolor": "#C8D4E3",
           "bordercolor": "rgb(17,17,17)",
           "borderwidth": 1,
           "tickwidth": 0
          },
          "ternary": {
           "aaxis": {
            "gridcolor": "#506784",
            "linecolor": "#506784",
            "ticks": ""
           },
           "baxis": {
            "gridcolor": "#506784",
            "linecolor": "#506784",
            "ticks": ""
           },
           "bgcolor": "rgb(17,17,17)",
           "caxis": {
            "gridcolor": "#506784",
            "linecolor": "#506784",
            "ticks": ""
           }
          },
          "title": {
           "x": 0.05
          },
          "updatemenudefaults": {
           "bgcolor": "#506784",
           "borderwidth": 0
          },
          "xaxis": {
           "automargin": true,
           "gridcolor": "#283442",
           "linecolor": "#506784",
           "ticks": "",
           "title": {
            "standoff": 15
           },
           "zerolinecolor": "#283442",
           "zerolinewidth": 2
          },
          "yaxis": {
           "automargin": true,
           "gridcolor": "#283442",
           "linecolor": "#506784",
           "ticks": "",
           "title": {
            "standoff": 15
           },
           "zerolinecolor": "#283442",
           "zerolinewidth": 2
          }
         }
        },
        "title": {
         "text": "Simple Linear Regression"
        },
        "xaxis": {
         "title": {
          "text": "Age"
         }
        },
        "yaxis": {
         "title": {
          "text": "Salary"
         }
        }
       }
      }
     },
     "metadata": {},
     "output_type": "display_data"
    }
   ],
   "source": [
    "fig = go.Figure()\n",
    "\n",
    "# Creating the real records line graph;\n",
    "fig.add_trace(go.Scatter(\n",
    "    x=x, \n",
    "    y=y, \n",
    "    mode='markers', \n",
    "    name='Dataset',\n",
    "    marker=dict(color='blue')\n",
    "))\n",
    "\n",
    "# Creating the predicted records line graph;\n",
    "fig.add_trace(go.Scatter(\n",
    "    x=x, \n",
    "    y=y_predict, \n",
    "    mode='lines',  # Apenas a linha\n",
    "    name='Model',\n",
    "    line=dict(color='red', width=3)\n",
    "))\n",
    "\n",
    "# Adjusting the layout\n",
    "fig.update_layout(\n",
    "    title='Simple Linear Regression',\n",
    "    xaxis_title='Age',\n",
    "    yaxis_title='Salary',\n",
    "    showlegend=True,\n",
    "    template='plotly_dark' \n",
    ")\n",
    "\n",
    "fig.show()"
   ]
  },
  {
   "cell_type": "markdown",
   "id": "cd1bd109",
   "metadata": {},
   "source": [
    "### **5. Evaluating the model's perfomance:**"
   ]
  },
  {
   "cell_type": "code",
   "execution_count": 15,
   "id": "747fe23e",
   "metadata": {},
   "outputs": [
    {
     "name": "stdout",
     "output_type": "stream",
     "text": [
      "R squared: 0.9401355222732326\n",
      "Root Mean Squared Erro: 1397.379717750068\n"
     ]
    }
   ],
   "source": [
    "def r_squared(y_true, y_predict):\n",
    "    sumPredict = 0\n",
    "    yMean = mean(y_true)\n",
    "    sumMeanY = 0\n",
    "\n",
    "    for i in range(len(y_true)):\n",
    "        sumPredict += ((y_true[i] - y_predict[i])**2)\n",
    "        sumMeanY += ((y_true[i] - yMean)**2)\n",
    "    \n",
    "    return 1 - (sumPredict / sumMeanY)\n",
    "\n",
    "def rmse(y_true, y_predict):\n",
    "    sumPredict = 0\n",
    "    n = len(y_true)\n",
    "\n",
    "    for i in range(len(y_true)):\n",
    "        sumPredict += ((y_true[i] - y_predict[i])**2)\n",
    "    \n",
    "    return (sumPredict / n)**0.5\n",
    "\n",
    "print(f\"R squared: {r_squared(y_true=y, y_predict=y_predict)}\\nRoot Mean Squared Erro: {rmse(y_true=y, y_predict=y_predict)}\")\n",
    "\n"
   ]
  },
  {
   "cell_type": "markdown",
   "id": "c505a476",
   "metadata": {},
   "source": [
    "R squared: 0.9401355222732326\n",
    "Root Mean Squared Erro: 1397.3797177500678"
   ]
  }
 ],
 "metadata": {
  "kernelspec": {
   "display_name": "venv (3.12.7)",
   "language": "python",
   "name": "python3"
  },
  "language_info": {
   "codemirror_mode": {
    "name": "ipython",
    "version": 3
   },
   "file_extension": ".py",
   "mimetype": "text/x-python",
   "name": "python",
   "nbconvert_exporter": "python",
   "pygments_lexer": "ipython3",
   "version": "3.12.7"
  }
 },
 "nbformat": 4,
 "nbformat_minor": 5
}
