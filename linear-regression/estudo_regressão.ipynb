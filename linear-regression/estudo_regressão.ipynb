{
 "cells": [
  {
   "cell_type": "markdown",
   "id": "60dd7599-5eca-444b-bb70-17a9c66843a5",
   "metadata": {},
   "source": [
    " ## **Regressão Linear do Zero**\n",
    " Aluno: Lucca de Sena Barbosa\n",
    "\n",
    " Curso: Ciência da Computação - 2025.2\n",
    "\n",
    " - **Estudo de caso**: Prever o salário de um funcionário com base na sua idade;\n",
    " - **Objetivo**: Compreender como funcionam os modelos de regressão linear do zero;"
   ]
  },
  {
   "cell_type": "markdown",
   "id": "c7a421d1-330d-4c73-9287-cb1921ac46a3",
   "metadata": {},
   "source": [
    " ### **1. Importando as bibliotecas necessárias;**"
   ]
  },
  {
   "cell_type": "code",
   "execution_count": null,
   "id": "a2e810ae-371f-4764-8396-4a5cbcb2a2f7",
   "metadata": {},
   "outputs": [],
   "source": [
    "import pandas as pd\n",
    "import numpy as np\n",
    "import plotly.graph_objects as go"
   ]
  },
  {
   "cell_type": "markdown",
   "id": "b2f6eb73-32c9-4b44-b662-bb90761e3186",
   "metadata": {},
   "source": [
    " ### **2. Criando um conjunto de dados simples;**"
   ]
  },
  {
   "cell_type": "code",
   "execution_count": null,
   "id": "c71c884c-ba87-453f-b364-46a101f5c3e5",
   "metadata": {},
   "outputs": [],
   "source": [
    "quantidade = 1000\n",
    "\n",
    "idades = np.random.randint(18, 81, quantidade)\n",
    "\n",
    "salarios_base = 800 + (idades - 18) * (20000 - 800) / (80 - 18)  \n",
    "ruido = np.random.normal(0, 1500, quantidade)  \n",
    "salarios = np.clip(salarios_base + ruido, 800, 20000) \n",
    "\n",
    "# Criar DataFrame\n",
    "dados = pd.DataFrame({\n",
    "    \"Idade\": idades,\n",
    "    \"Salario\": salarios.astype(int)\n",
    "})"
   ]
  },
  {
   "cell_type": "code",
   "execution_count": null,
   "id": "a4544dea-eccc-4fa0-9e3b-f8ed0f45d87b",
   "metadata": {},
   "outputs": [
    {
     "data": {
      "application/vnd.microsoft.datawrangler.viewer.v0+json": {
       "columns": [
        {
         "name": "index",
         "rawType": "int64",
         "type": "integer"
        },
        {
         "name": "Idade",
         "rawType": "int32",
         "type": "integer"
        },
        {
         "name": "Salario",
         "rawType": "int64",
         "type": "integer"
        }
       ],
       "ref": "66156f35-51d0-4f39-bc9c-265607135ce8",
       "rows": [
        [
         "0",
         "71",
         "19137"
        ],
        [
         "1",
         "53",
         "11234"
        ],
        [
         "2",
         "71",
         "16117"
        ],
        [
         "3",
         "18",
         "1356"
        ],
        [
         "4",
         "35",
         "8941"
        ],
        [
         "5",
         "80",
         "16343"
        ],
        [
         "6",
         "46",
         "7549"
        ],
        [
         "7",
         "51",
         "10765"
        ],
        [
         "8",
         "68",
         "15139"
        ],
        [
         "9",
         "61",
         "13134"
        ],
        [
         "10",
         "19",
         "4253"
        ],
        [
         "11",
         "79",
         "20000"
        ],
        [
         "12",
         "40",
         "8420"
        ],
        [
         "13",
         "50",
         "8633"
        ],
        [
         "14",
         "72",
         "18269"
        ],
        [
         "15",
         "22",
         "1864"
        ],
        [
         "16",
         "52",
         "12126"
        ],
        [
         "17",
         "60",
         "13133"
        ],
        [
         "18",
         "48",
         "10294"
        ],
        [
         "19",
         "59",
         "13187"
        ],
        [
         "20",
         "58",
         "13827"
        ],
        [
         "21",
         "23",
         "2298"
        ],
        [
         "22",
         "71",
         "17913"
        ],
        [
         "23",
         "60",
         "13859"
        ],
        [
         "24",
         "61",
         "13795"
        ],
        [
         "25",
         "63",
         "16239"
        ],
        [
         "26",
         "38",
         "9457"
        ],
        [
         "27",
         "45",
         "6734"
        ],
        [
         "28",
         "71",
         "18685"
        ],
        [
         "29",
         "30",
         "5212"
        ],
        [
         "30",
         "51",
         "10030"
        ],
        [
         "31",
         "32",
         "6323"
        ],
        [
         "32",
         "49",
         "15472"
        ],
        [
         "33",
         "36",
         "5084"
        ],
        [
         "34",
         "59",
         "14250"
        ],
        [
         "35",
         "24",
         "5643"
        ],
        [
         "36",
         "31",
         "6803"
        ],
        [
         "37",
         "19",
         "800"
        ],
        [
         "38",
         "64",
         "14086"
        ],
        [
         "39",
         "62",
         "14708"
        ],
        [
         "40",
         "74",
         "16303"
        ],
        [
         "41",
         "49",
         "10782"
        ],
        [
         "42",
         "26",
         "4023"
        ],
        [
         "43",
         "49",
         "9702"
        ],
        [
         "44",
         "78",
         "19504"
        ],
        [
         "45",
         "52",
         "9898"
        ],
        [
         "46",
         "55",
         "10316"
        ],
        [
         "47",
         "58",
         "10835"
        ],
        [
         "48",
         "46",
         "12304"
        ],
        [
         "49",
         "42",
         "7473"
        ]
       ],
       "shape": {
        "columns": 2,
        "rows": 1000
       }
      },
      "text/html": [
       "<div>\n",
       "<style scoped>\n",
       "    .dataframe tbody tr th:only-of-type {\n",
       "        vertical-align: middle;\n",
       "    }\n",
       "\n",
       "    .dataframe tbody tr th {\n",
       "        vertical-align: top;\n",
       "    }\n",
       "\n",
       "    .dataframe thead th {\n",
       "        text-align: right;\n",
       "    }\n",
       "</style>\n",
       "<table border=\"1\" class=\"dataframe\">\n",
       "  <thead>\n",
       "    <tr style=\"text-align: right;\">\n",
       "      <th></th>\n",
       "      <th>Idade</th>\n",
       "      <th>Salario</th>\n",
       "    </tr>\n",
       "  </thead>\n",
       "  <tbody>\n",
       "    <tr>\n",
       "      <th>0</th>\n",
       "      <td>71</td>\n",
       "      <td>19137</td>\n",
       "    </tr>\n",
       "    <tr>\n",
       "      <th>1</th>\n",
       "      <td>53</td>\n",
       "      <td>11234</td>\n",
       "    </tr>\n",
       "    <tr>\n",
       "      <th>2</th>\n",
       "      <td>71</td>\n",
       "      <td>16117</td>\n",
       "    </tr>\n",
       "    <tr>\n",
       "      <th>3</th>\n",
       "      <td>18</td>\n",
       "      <td>1356</td>\n",
       "    </tr>\n",
       "    <tr>\n",
       "      <th>4</th>\n",
       "      <td>35</td>\n",
       "      <td>8941</td>\n",
       "    </tr>\n",
       "    <tr>\n",
       "      <th>...</th>\n",
       "      <td>...</td>\n",
       "      <td>...</td>\n",
       "    </tr>\n",
       "    <tr>\n",
       "      <th>995</th>\n",
       "      <td>52</td>\n",
       "      <td>9376</td>\n",
       "    </tr>\n",
       "    <tr>\n",
       "      <th>996</th>\n",
       "      <td>34</td>\n",
       "      <td>2680</td>\n",
       "    </tr>\n",
       "    <tr>\n",
       "      <th>997</th>\n",
       "      <td>32</td>\n",
       "      <td>6778</td>\n",
       "    </tr>\n",
       "    <tr>\n",
       "      <th>998</th>\n",
       "      <td>44</td>\n",
       "      <td>9333</td>\n",
       "    </tr>\n",
       "    <tr>\n",
       "      <th>999</th>\n",
       "      <td>49</td>\n",
       "      <td>11949</td>\n",
       "    </tr>\n",
       "  </tbody>\n",
       "</table>\n",
       "<p>1000 rows × 2 columns</p>\n",
       "</div>"
      ],
      "text/plain": [
       "     Idade  Salario\n",
       "0       71    19137\n",
       "1       53    11234\n",
       "2       71    16117\n",
       "3       18     1356\n",
       "4       35     8941\n",
       "..     ...      ...\n",
       "995     52     9376\n",
       "996     34     2680\n",
       "997     32     6778\n",
       "998     44     9333\n",
       "999     49    11949\n",
       "\n",
       "[1000 rows x 2 columns]"
      ]
     },
     "execution_count": 3,
     "metadata": {},
     "output_type": "execute_result"
    }
   ],
   "source": [
    "dados"
   ]
  },
  {
   "cell_type": "markdown",
   "id": "3160aa1e-82ab-4892-9b83-47f9dbb6d586",
   "metadata": {},
   "source": [
    " ### **3. Criando o modelo:**"
   ]
  },
  {
   "cell_type": "markdown",
   "id": "9ecf723b-1133-42d6-95b2-01517f773938",
   "metadata": {},
   "source": [
    " #### **3.1 Regressão Linear Simples (y):**\n",
    "\n",
    " $$\n",
    " y = m \\cdot x + b\n",
    " $$\n",
    "\n",
    " - Precisamos definir os valores de **inclinação (m)** e **intercepto (b)** para construir a função que representa o modelo.\n",
    "\n",
    " ---\n",
    "\n",
    " #### **3.2 Inclinação (m):**\n",
    "\n",
    " $$\n",
    " m = \\frac{\\operatorname{Cov}(X,Y)}{\\operatorname{Var}(x)}\n",
    " $$\n",
    "\n",
    " **3.2.1 Covariância (Cov):**\n",
    "\n",
    " $$\n",
    " \\operatorname{Cov}(X,Y) = \\frac{\\sum_{i=1}^{n} (x_i - \\bar{x})(y_i - \\bar{y})}{n-1}\n",
    " $$\n",
    "\n",
    "\n",
    " **3.2.2 Variância (Var):**\n",
    "\n",
    " $$\n",
    " \\operatorname{Var}(x) = \\frac{\\sum_{i=1}^{n} (x_i - \\bar{x})^2}{n-1}\n",
    " $$\n",
    "\n",
    " ---\n",
    "\n",
    " #### **3.3 Intercepto (b):**\n",
    "\n",
    " $$\n",
    " b = \\bar{y} - m \\cdot \\bar{x}\n",
    " $$\n",
    "\n",
    " ---"
   ]
  },
  {
   "cell_type": "code",
   "execution_count": null,
   "id": "0b18f025-a4ef-4335-919e-5e9ddd9311f3",
   "metadata": {},
   "outputs": [],
   "source": [
    "def media(valores):\n",
    "    \"\"\"\n",
    "    Calcula a média de uma lista ou array.\n",
    "    \"\"\"\n",
    "    n = len(valores)\n",
    "    soma = 0\n",
    "    for i in range(n):\n",
    "        soma += valores[i]\n",
    "\n",
    "    return soma / n\n",
    "\n",
    "class RegressaoLinearSimples:\n",
    "    def __init__(self):\n",
    "        # Inicializando os parâmetros do modelo\n",
    "        self.m = None  # Inclinação (m)\n",
    "        self.b = None  # Intercepto (b)\n",
    "\n",
    "    def inclinacao(self, x, y):\n",
    "        \"\"\"\n",
    "        Calcula a inclinação da reta de regressão:\n",
    "                        m = Cov(X,Y) / Var(X)\n",
    "        \"\"\"\n",
    "        x_media = media(x)\n",
    "        y_media = media(y)\n",
    "        n = len(x)\n",
    "\n",
    "        soma_quadrados_x = 0\n",
    "        soma_covariancia = 0\n",
    "\n",
    "        for i in range(n):\n",
    "            soma_quadrados_x += (x[i] - x_media) ** 2\n",
    "            soma_covariancia += (x[i] - x_media) * (y[i] - y_media)\n",
    "\n",
    "        variancia_x = soma_quadrados_x / (n - 1)\n",
    "        covariancia_xy = soma_covariancia / (n - 1)\n",
    "\n",
    "        return covariancia_xy / variancia_x\n",
    "\n",
    "    def intercepto(self, media_x, media_y, m):\n",
    "        return media_y - (m * media_x)\n",
    "\n",
    "    def treinar(self, x, y):\n",
    "        self.m = self.inclinacao(x, y)\n",
    "        self.b = self.intercepto(media(x), media(y), self.m)\n",
    "\n",
    "    def prever(self, valores):\n",
    "        return (self.m * valores) + self.b\n",
    "\n",
    "\n",
    "x = dados[\"Idade\"].values\n",
    "y = dados[\"Salario\"].values\n",
    "\n",
    "modelo = RegressaoLinearSimples()\n",
    "modelo.treinar(x, y)\n",
    "y_previsto = modelo.prever(x)"
   ]
  },
  {
   "cell_type": "markdown",
   "id": "9cab973c-9ef4-4817-8a2d-0b15e5ff493e",
   "metadata": {},
   "source": [
    " ### **4. Visualização do modelo com gráficos:**"
   ]
  },
  {
   "cell_type": "code",
   "execution_count": null,
   "id": "ee27ba0e-9439-428e-b1ea-44e465f2cfca",
   "metadata": {},
   "outputs": [
    {
     "data": {
      "application/vnd.plotly.v1+json": {
       "config": {
        "plotlyServerURL": "https://plot.ly"
       },
       "data": [
        {
         "marker": {
          "color": "blue"
         },
         "mode": "markers",
         "name": "Dados reais",
         "type": "scatter",
         "x": {
          "bdata": "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",
          "dtype": "i4"
         },
         "y": {
          "bdata": "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",
          "dtype": "i2"
         }
        },
        {
         "line": {
          "color": "red",
          "width": 3
         },
         "mode": "lines",
         "name": "Modelo",
         "type": "scatter",
         "x": {
          "bdata": "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",
          "dtype": "i4"
         },
         "y": {
          "bdata": "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",
          "dtype": "f8"
         }
        }
       ],
       "layout": {
        "showlegend": true,
        "template": {
         "data": {
          "bar": [
           {
            "error_x": {
             "color": "#f2f5fa"
            },
            "error_y": {
             "color": "#f2f5fa"
            },
            "marker": {
             "line": {
              "color": "rgb(17,17,17)",
              "width": 0.5
             },
             "pattern": {
              "fillmode": "overlay",
              "size": 10,
              "solidity": 0.2
             }
            },
            "type": "bar"
           }
          ],
          "barpolar": [
           {
            "marker": {
             "line": {
              "color": "rgb(17,17,17)",
              "width": 0.5
             },
             "pattern": {
              "fillmode": "overlay",
              "size": 10,
              "solidity": 0.2
             }
            },
            "type": "barpolar"
           }
          ],
          "carpet": [
           {
            "aaxis": {
             "endlinecolor": "#A2B1C6",
             "gridcolor": "#506784",
             "linecolor": "#506784",
             "minorgridcolor": "#506784",
             "startlinecolor": "#A2B1C6"
            },
            "baxis": {
             "endlinecolor": "#A2B1C6",
             "gridcolor": "#506784",
             "linecolor": "#506784",
             "minorgridcolor": "#506784",
             "startlinecolor": "#A2B1C6"
            },
            "type": "carpet"
           }
          ],
          "choropleth": [
           {
            "colorbar": {
             "outlinewidth": 0,
             "ticks": ""
            },
            "type": "choropleth"
           }
          ],
          "contour": [
           {
            "colorbar": {
             "outlinewidth": 0,
             "ticks": ""
            },
            "colorscale": [
             [
              0,
              "#0d0887"
             ],
             [
              0.1111111111111111,
              "#46039f"
             ],
             [
              0.2222222222222222,
              "#7201a8"
             ],
             [
              0.3333333333333333,
              "#9c179e"
             ],
             [
              0.4444444444444444,
              "#bd3786"
             ],
             [
              0.5555555555555556,
              "#d8576b"
             ],
             [
              0.6666666666666666,
              "#ed7953"
             ],
             [
              0.7777777777777778,
              "#fb9f3a"
             ],
             [
              0.8888888888888888,
              "#fdca26"
             ],
             [
              1,
              "#f0f921"
             ]
            ],
            "type": "contour"
           }
          ],
          "contourcarpet": [
           {
            "colorbar": {
             "outlinewidth": 0,
             "ticks": ""
            },
            "type": "contourcarpet"
           }
          ],
          "heatmap": [
           {
            "colorbar": {
             "outlinewidth": 0,
             "ticks": ""
            },
            "colorscale": [
             [
              0,
              "#0d0887"
             ],
             [
              0.1111111111111111,
              "#46039f"
             ],
             [
              0.2222222222222222,
              "#7201a8"
             ],
             [
              0.3333333333333333,
              "#9c179e"
             ],
             [
              0.4444444444444444,
              "#bd3786"
             ],
             [
              0.5555555555555556,
              "#d8576b"
             ],
             [
              0.6666666666666666,
              "#ed7953"
             ],
             [
              0.7777777777777778,
              "#fb9f3a"
             ],
             [
              0.8888888888888888,
              "#fdca26"
             ],
             [
              1,
              "#f0f921"
             ]
            ],
            "type": "heatmap"
           }
          ],
          "histogram": [
           {
            "marker": {
             "pattern": {
              "fillmode": "overlay",
              "size": 10,
              "solidity": 0.2
             }
            },
            "type": "histogram"
           }
          ],
          "histogram2d": [
           {
            "colorbar": {
             "outlinewidth": 0,
             "ticks": ""
            },
            "colorscale": [
             [
              0,
              "#0d0887"
             ],
             [
              0.1111111111111111,
              "#46039f"
             ],
             [
              0.2222222222222222,
              "#7201a8"
             ],
             [
              0.3333333333333333,
              "#9c179e"
             ],
             [
              0.4444444444444444,
              "#bd3786"
             ],
             [
              0.5555555555555556,
              "#d8576b"
             ],
             [
              0.6666666666666666,
              "#ed7953"
             ],
             [
              0.7777777777777778,
              "#fb9f3a"
             ],
             [
              0.8888888888888888,
              "#fdca26"
             ],
             [
              1,
              "#f0f921"
             ]
            ],
            "type": "histogram2d"
           }
          ],
          "histogram2dcontour": [
           {
            "colorbar": {
             "outlinewidth": 0,
             "ticks": ""
            },
            "colorscale": [
             [
              0,
              "#0d0887"
             ],
             [
              0.1111111111111111,
              "#46039f"
             ],
             [
              0.2222222222222222,
              "#7201a8"
             ],
             [
              0.3333333333333333,
              "#9c179e"
             ],
             [
              0.4444444444444444,
              "#bd3786"
             ],
             [
              0.5555555555555556,
              "#d8576b"
             ],
             [
              0.6666666666666666,
              "#ed7953"
             ],
             [
              0.7777777777777778,
              "#fb9f3a"
             ],
             [
              0.8888888888888888,
              "#fdca26"
             ],
             [
              1,
              "#f0f921"
             ]
            ],
            "type": "histogram2dcontour"
           }
          ],
          "mesh3d": [
           {
            "colorbar": {
             "outlinewidth": 0,
             "ticks": ""
            },
            "type": "mesh3d"
           }
          ],
          "parcoords": [
           {
            "line": {
             "colorbar": {
              "outlinewidth": 0,
              "ticks": ""
             }
            },
            "type": "parcoords"
           }
          ],
          "pie": [
           {
            "automargin": true,
            "type": "pie"
           }
          ],
          "scatter": [
           {
            "marker": {
             "line": {
              "color": "#283442"
             }
            },
            "type": "scatter"
           }
          ],
          "scatter3d": [
           {
            "line": {
             "colorbar": {
              "outlinewidth": 0,
              "ticks": ""
             }
            },
            "marker": {
             "colorbar": {
              "outlinewidth": 0,
              "ticks": ""
             }
            },
            "type": "scatter3d"
           }
          ],
          "scattercarpet": [
           {
            "marker": {
             "colorbar": {
              "outlinewidth": 0,
              "ticks": ""
             }
            },
            "type": "scattercarpet"
           }
          ],
          "scattergeo": [
           {
            "marker": {
             "colorbar": {
              "outlinewidth": 0,
              "ticks": ""
             }
            },
            "type": "scattergeo"
           }
          ],
          "scattergl": [
           {
            "marker": {
             "line": {
              "color": "#283442"
             }
            },
            "type": "scattergl"
           }
          ],
          "scattermap": [
           {
            "marker": {
             "colorbar": {
              "outlinewidth": 0,
              "ticks": ""
             }
            },
            "type": "scattermap"
           }
          ],
          "scattermapbox": [
           {
            "marker": {
             "colorbar": {
              "outlinewidth": 0,
              "ticks": ""
             }
            },
            "type": "scattermapbox"
           }
          ],
          "scatterpolar": [
           {
            "marker": {
             "colorbar": {
              "outlinewidth": 0,
              "ticks": ""
             }
            },
            "type": "scatterpolar"
           }
          ],
          "scatterpolargl": [
           {
            "marker": {
             "colorbar": {
              "outlinewidth": 0,
              "ticks": ""
             }
            },
            "type": "scatterpolargl"
           }
          ],
          "scatterternary": [
           {
            "marker": {
             "colorbar": {
              "outlinewidth": 0,
              "ticks": ""
             }
            },
            "type": "scatterternary"
           }
          ],
          "surface": [
           {
            "colorbar": {
             "outlinewidth": 0,
             "ticks": ""
            },
            "colorscale": [
             [
              0,
              "#0d0887"
             ],
             [
              0.1111111111111111,
              "#46039f"
             ],
             [
              0.2222222222222222,
              "#7201a8"
             ],
             [
              0.3333333333333333,
              "#9c179e"
             ],
             [
              0.4444444444444444,
              "#bd3786"
             ],
             [
              0.5555555555555556,
              "#d8576b"
             ],
             [
              0.6666666666666666,
              "#ed7953"
             ],
             [
              0.7777777777777778,
              "#fb9f3a"
             ],
             [
              0.8888888888888888,
              "#fdca26"
             ],
             [
              1,
              "#f0f921"
             ]
            ],
            "type": "surface"
           }
          ],
          "table": [
           {
            "cells": {
             "fill": {
              "color": "#506784"
             },
             "line": {
              "color": "rgb(17,17,17)"
             }
            },
            "header": {
             "fill": {
              "color": "#2a3f5f"
             },
             "line": {
              "color": "rgb(17,17,17)"
             }
            },
            "type": "table"
           }
          ]
         },
         "layout": {
          "annotationdefaults": {
           "arrowcolor": "#f2f5fa",
           "arrowhead": 0,
           "arrowwidth": 1
          },
          "autotypenumbers": "strict",
          "coloraxis": {
           "colorbar": {
            "outlinewidth": 0,
            "ticks": ""
           }
          },
          "colorscale": {
           "diverging": [
            [
             0,
             "#8e0152"
            ],
            [
             0.1,
             "#c51b7d"
            ],
            [
             0.2,
             "#de77ae"
            ],
            [
             0.3,
             "#f1b6da"
            ],
            [
             0.4,
             "#fde0ef"
            ],
            [
             0.5,
             "#f7f7f7"
            ],
            [
             0.6,
             "#e6f5d0"
            ],
            [
             0.7,
             "#b8e186"
            ],
            [
             0.8,
             "#7fbc41"
            ],
            [
             0.9,
             "#4d9221"
            ],
            [
             1,
             "#276419"
            ]
           ],
           "sequential": [
            [
             0,
             "#0d0887"
            ],
            [
             0.1111111111111111,
             "#46039f"
            ],
            [
             0.2222222222222222,
             "#7201a8"
            ],
            [
             0.3333333333333333,
             "#9c179e"
            ],
            [
             0.4444444444444444,
             "#bd3786"
            ],
            [
             0.5555555555555556,
             "#d8576b"
            ],
            [
             0.6666666666666666,
             "#ed7953"
            ],
            [
             0.7777777777777778,
             "#fb9f3a"
            ],
            [
             0.8888888888888888,
             "#fdca26"
            ],
            [
             1,
             "#f0f921"
            ]
           ],
           "sequentialminus": [
            [
             0,
             "#0d0887"
            ],
            [
             0.1111111111111111,
             "#46039f"
            ],
            [
             0.2222222222222222,
             "#7201a8"
            ],
            [
             0.3333333333333333,
             "#9c179e"
            ],
            [
             0.4444444444444444,
             "#bd3786"
            ],
            [
             0.5555555555555556,
             "#d8576b"
            ],
            [
             0.6666666666666666,
             "#ed7953"
            ],
            [
             0.7777777777777778,
             "#fb9f3a"
            ],
            [
             0.8888888888888888,
             "#fdca26"
            ],
            [
             1,
             "#f0f921"
            ]
           ]
          },
          "colorway": [
           "#636efa",
           "#EF553B",
           "#00cc96",
           "#ab63fa",
           "#FFA15A",
           "#19d3f3",
           "#FF6692",
           "#B6E880",
           "#FF97FF",
           "#FECB52"
          ],
          "font": {
           "color": "#f2f5fa"
          },
          "geo": {
           "bgcolor": "rgb(17,17,17)",
           "lakecolor": "rgb(17,17,17)",
           "landcolor": "rgb(17,17,17)",
           "showlakes": true,
           "showland": true,
           "subunitcolor": "#506784"
          },
          "hoverlabel": {
           "align": "left"
          },
          "hovermode": "closest",
          "mapbox": {
           "style": "dark"
          },
          "paper_bgcolor": "rgb(17,17,17)",
          "plot_bgcolor": "rgb(17,17,17)",
          "polar": {
           "angularaxis": {
            "gridcolor": "#506784",
            "linecolor": "#506784",
            "ticks": ""
           },
           "bgcolor": "rgb(17,17,17)",
           "radialaxis": {
            "gridcolor": "#506784",
            "linecolor": "#506784",
            "ticks": ""
           }
          },
          "scene": {
           "xaxis": {
            "backgroundcolor": "rgb(17,17,17)",
            "gridcolor": "#506784",
            "gridwidth": 2,
            "linecolor": "#506784",
            "showbackground": true,
            "ticks": "",
            "zerolinecolor": "#C8D4E3"
           },
           "yaxis": {
            "backgroundcolor": "rgb(17,17,17)",
            "gridcolor": "#506784",
            "gridwidth": 2,
            "linecolor": "#506784",
            "showbackground": true,
            "ticks": "",
            "zerolinecolor": "#C8D4E3"
           },
           "zaxis": {
            "backgroundcolor": "rgb(17,17,17)",
            "gridcolor": "#506784",
            "gridwidth": 2,
            "linecolor": "#506784",
            "showbackground": true,
            "ticks": "",
            "zerolinecolor": "#C8D4E3"
           }
          },
          "shapedefaults": {
           "line": {
            "color": "#f2f5fa"
           }
          },
          "sliderdefaults": {
           "bgcolor": "#C8D4E3",
           "bordercolor": "rgb(17,17,17)",
           "borderwidth": 1,
           "tickwidth": 0
          },
          "ternary": {
           "aaxis": {
            "gridcolor": "#506784",
            "linecolor": "#506784",
            "ticks": ""
           },
           "baxis": {
            "gridcolor": "#506784",
            "linecolor": "#506784",
            "ticks": ""
           },
           "bgcolor": "rgb(17,17,17)",
           "caxis": {
            "gridcolor": "#506784",
            "linecolor": "#506784",
            "ticks": ""
           }
          },
          "title": {
           "x": 0.05
          },
          "updatemenudefaults": {
           "bgcolor": "#506784",
           "borderwidth": 0
          },
          "xaxis": {
           "automargin": true,
           "gridcolor": "#283442",
           "linecolor": "#506784",
           "ticks": "",
           "title": {
            "standoff": 15
           },
           "zerolinecolor": "#283442",
           "zerolinewidth": 2
          },
          "yaxis": {
           "automargin": true,
           "gridcolor": "#283442",
           "linecolor": "#506784",
           "ticks": "",
           "title": {
            "standoff": 15
           },
           "zerolinecolor": "#283442",
           "zerolinewidth": 2
          }
         }
        },
        "title": {
         "text": "Regressão Linear Simples"
        },
        "xaxis": {
         "title": {
          "text": "Idade"
         }
        },
        "yaxis": {
         "title": {
          "text": "Salário"
         }
        }
       }
      }
     },
     "metadata": {},
     "output_type": "display_data"
    }
   ],
   "source": [
    "fig = go.Figure()\n",
    "\n",
    "# Gráfico dos registros reais\n",
    "fig.add_trace(go.Scatter(\n",
    "    x=x, \n",
    "    y=y, \n",
    "    mode='markers', \n",
    "    name='Dados reais',\n",
    "    marker=dict(color='blue')\n",
    "))\n",
    "\n",
    "# Gráfico dos registros previstos\n",
    "fig.add_trace(go.Scatter(\n",
    "    x=x, \n",
    "    y=y_previsto, \n",
    "    mode='lines',  \n",
    "    name='Modelo',\n",
    "    line=dict(color='red', width=3)\n",
    "))\n",
    "\n",
    "# Layout\n",
    "fig.update_layout(\n",
    "    title='Regressão Linear Simples',\n",
    "    xaxis_title='Idade',\n",
    "    yaxis_title='Salário',\n",
    "    showlegend=True,\n",
    "    template='plotly_dark' \n",
    ")\n",
    "\n",
    "fig.show()"
   ]
  },
  {
   "cell_type": "markdown",
   "id": "d98cc2c5-9f8e-4dfa-9ba6-bc56ebc6185a",
   "metadata": {},
   "source": [
    " ### **5. Avaliando a performance do modelo:**"
   ]
  },
  {
   "cell_type": "code",
   "execution_count": null,
   "id": "a74b0a75-a7bf-4a85-a25e-1903c378ea50",
   "metadata": {},
   "outputs": [
    {
     "name": "stdout",
     "output_type": "stream",
     "text": [
      "R²: 0.9311834718081685\n",
      "RMSE: 1440.364050923862\n"
     ]
    }
   ],
   "source": [
    "def r_quadrado(y_real, y_previsto):\n",
    "    soma_residuos = 0\n",
    "    y_media = media(y_real)\n",
    "    soma_total = 0\n",
    "\n",
    "    for i in range(len(y_real)):\n",
    "        soma_residuos += (y_real[i] - y_previsto[i]) ** 2\n",
    "        soma_total += (y_real[i] - y_media) ** 2\n",
    "    \n",
    "    return 1 - (soma_residuos / soma_total)\n",
    "\n",
    "def rmse(y_real, y_previsto):\n",
    "    soma = 0\n",
    "    n = len(y_real)\n",
    "\n",
    "    for i in range(n):\n",
    "        soma += (y_real[i] - y_previsto[i]) ** 2\n",
    "    \n",
    "    return (soma / n) ** 0.5\n",
    "\n",
    "print(f\"R²: {r_quadrado(y, y_previsto)}\")\n",
    "print(f\"RMSE: {rmse(y, y_previsto)}\")"
   ]
  }
 ],
 "metadata": {
  "language_info": {
   "codemirror_mode": {
    "name": "ipython",
    "version": 3
   },
   "file_extension": ".py",
   "mimetype": "text/x-python",
   "name": "python",
   "nbconvert_exporter": "python",
   "pygments_lexer": "ipython3",
   "version": 3
  }
 },
 "nbformat": 4,
 "nbformat_minor": 2
}
